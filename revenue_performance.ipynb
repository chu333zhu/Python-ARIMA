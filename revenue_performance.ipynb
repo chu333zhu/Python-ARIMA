{
 "cells": [
  {
   "attachments": {},
   "cell_type": "markdown",
   "metadata": {},
   "source": [
    "## Import data"
   ]
  },
  {
   "cell_type": "code",
   "execution_count": 1,
   "metadata": {},
   "outputs": [],
   "source": [
    "import numpy as np\n",
    "import pandas as pd\n",
    "from matplotlib import pyplot as plt\n",
    "import datetime\n",
    "from dateutil.relativedelta import relativedelta\n",
    "import seaborn as sns\n",
    "import statsmodels.api as sm\n",
    "#from statsmodels.tsa.stattools import acf\n",
    "#from statsmodels.tsa.stattools import pacf\n",
    "#from statsmodels.tsa.seasonal import seasonal_decompose"
   ]
  },
  {
   "cell_type": "code",
   "execution_count": 2,
   "metadata": {},
   "outputs": [],
   "source": [
    "# import csv\n",
    "# countries(Australia,Canada,Germany,Japan,Mexico,Nigeria)\n",
    "aus_df = pd.read_csv('Australia.csv' , encoding='gbk')\n",
    "can_df = pd.read_csv('Canada.csv' , encoding='gbk')\n",
    "ger_df = pd.read_csv('Germany.csv' , encoding='gbk')\n",
    "jap_df = pd.read_csv('Japan.csv' , encoding='gbk')\n",
    "mex_df = pd.read_csv('Mexico.csv' , encoding='gbk')\n",
    "nig_df = pd.read_csv('Nigeria.csv' , encoding='gbk')\n",
    "# MDM(geography,manufacturer,product)\n",
    "geo_df = pd.read_excel('MDM_GEO.xlsx' )\n",
    "manu_df = pd.read_excel('MDM_MANUFACTURER.xlsx' )\n",
    "product_df = pd.read_excel('MDM_PRODUCT.xlsx' )\n",
    "# sales\n",
    "sales_df = pd.read_csv('sales.csv' , encoding='gbk')\n"
   ]
  },
  {
   "attachments": {},
   "cell_type": "markdown",
   "metadata": {},
   "source": [
    "## Check information"
   ]
  },
  {
   "cell_type": "code",
   "execution_count": 3,
   "metadata": {},
   "outputs": [
    {
     "data": {
      "text/html": [
       "<div>\n",
       "<style scoped>\n",
       "    .dataframe tbody tr th:only-of-type {\n",
       "        vertical-align: middle;\n",
       "    }\n",
       "\n",
       "    .dataframe tbody tr th {\n",
       "        vertical-align: top;\n",
       "    }\n",
       "\n",
       "    .dataframe thead th {\n",
       "        text-align: right;\n",
       "    }\n",
       "</style>\n",
       "<table border=\"1\" class=\"dataframe\">\n",
       "  <thead>\n",
       "    <tr style=\"text-align: right;\">\n",
       "      <th></th>\n",
       "      <th>ProductID</th>\n",
       "      <th>Date</th>\n",
       "      <th>Zip</th>\n",
       "      <th>Units</th>\n",
       "      <th>Revenue</th>\n",
       "      <th>Country</th>\n",
       "    </tr>\n",
       "  </thead>\n",
       "  <tbody>\n",
       "    <tr>\n",
       "      <th>0</th>\n",
       "      <td>1070</td>\n",
       "      <td>2018-01-18</td>\n",
       "      <td>2128</td>\n",
       "      <td>1</td>\n",
       "      <td>157.4475</td>\n",
       "      <td>Australia</td>\n",
       "    </tr>\n",
       "    <tr>\n",
       "      <th>1</th>\n",
       "      <td>1070</td>\n",
       "      <td>2018-04-02</td>\n",
       "      <td>2565</td>\n",
       "      <td>1</td>\n",
       "      <td>157.4475</td>\n",
       "      <td>Australia</td>\n",
       "    </tr>\n",
       "    <tr>\n",
       "      <th>2</th>\n",
       "      <td>1070</td>\n",
       "      <td>2018-04-25</td>\n",
       "      <td>4581</td>\n",
       "      <td>4</td>\n",
       "      <td>629.7900</td>\n",
       "      <td>Australia</td>\n",
       "    </tr>\n",
       "    <tr>\n",
       "      <th>3</th>\n",
       "      <td>1070</td>\n",
       "      <td>2018-04-26</td>\n",
       "      <td>1189</td>\n",
       "      <td>2</td>\n",
       "      <td>314.8950</td>\n",
       "      <td>Australia</td>\n",
       "    </tr>\n",
       "    <tr>\n",
       "      <th>4</th>\n",
       "      <td>1070</td>\n",
       "      <td>2018-04-26</td>\n",
       "      <td>3981</td>\n",
       "      <td>1</td>\n",
       "      <td>157.4475</td>\n",
       "      <td>Australia</td>\n",
       "    </tr>\n",
       "  </tbody>\n",
       "</table>\n",
       "</div>"
      ],
      "text/plain": [
       "   ProductID        Date   Zip  Units   Revenue    Country\n",
       "0       1070  2018-01-18  2128      1  157.4475  Australia\n",
       "1       1070  2018-04-02  2565      1  157.4475  Australia\n",
       "2       1070  2018-04-25  4581      4  629.7900  Australia\n",
       "3       1070  2018-04-26  1189      2  314.8950  Australia\n",
       "4       1070  2018-04-26  3981      1  157.4475  Australia"
      ]
     },
     "execution_count": 3,
     "metadata": {},
     "output_type": "execute_result"
    }
   ],
   "source": [
    "aus_df.head()"
   ]
  },
  {
   "cell_type": "code",
   "execution_count": 4,
   "metadata": {},
   "outputs": [
    {
     "name": "stdout",
     "output_type": "stream",
     "text": [
      "<class 'pandas.core.frame.DataFrame'>\n",
      "RangeIndex: 1992235 entries, 0 to 1992234\n",
      "Data columns (total 6 columns):\n",
      " #   Column     Dtype  \n",
      "---  ------     -----  \n",
      " 0   ProductID  int64  \n",
      " 1   Date       object \n",
      " 2   Zip        int64  \n",
      " 3   Units      int64  \n",
      " 4   Revenue    float64\n",
      " 5   Country    object \n",
      "dtypes: float64(1), int64(3), object(2)\n",
      "memory usage: 91.2+ MB\n"
     ]
    }
   ],
   "source": [
    "aus_df.info()"
   ]
  },
  {
   "cell_type": "code",
   "execution_count": 5,
   "metadata": {},
   "outputs": [
    {
     "data": {
      "text/html": [
       "<div>\n",
       "<style scoped>\n",
       "    .dataframe tbody tr th:only-of-type {\n",
       "        vertical-align: middle;\n",
       "    }\n",
       "\n",
       "    .dataframe tbody tr th {\n",
       "        vertical-align: top;\n",
       "    }\n",
       "\n",
       "    .dataframe thead th {\n",
       "        text-align: right;\n",
       "    }\n",
       "</style>\n",
       "<table border=\"1\" class=\"dataframe\">\n",
       "  <thead>\n",
       "    <tr style=\"text-align: right;\">\n",
       "      <th></th>\n",
       "      <th>ProductID</th>\n",
       "      <th>Date</th>\n",
       "      <th>Zip</th>\n",
       "      <th>Units</th>\n",
       "      <th>Revenue</th>\n",
       "      <th>Country</th>\n",
       "    </tr>\n",
       "  </thead>\n",
       "  <tbody>\n",
       "    <tr>\n",
       "      <th>0</th>\n",
       "      <td>1082</td>\n",
       "      <td>2012-06-28</td>\n",
       "      <td>R3E</td>\n",
       "      <td>1</td>\n",
       "      <td>225.6975</td>\n",
       "      <td>Canada</td>\n",
       "    </tr>\n",
       "    <tr>\n",
       "      <th>1</th>\n",
       "      <td>1082</td>\n",
       "      <td>2012-12-14</td>\n",
       "      <td>M6H</td>\n",
       "      <td>1</td>\n",
       "      <td>230.9475</td>\n",
       "      <td>Canada</td>\n",
       "    </tr>\n",
       "    <tr>\n",
       "      <th>2</th>\n",
       "      <td>1082</td>\n",
       "      <td>2013-05-03</td>\n",
       "      <td>L5T</td>\n",
       "      <td>1</td>\n",
       "      <td>230.9475</td>\n",
       "      <td>Canada</td>\n",
       "    </tr>\n",
       "    <tr>\n",
       "      <th>3</th>\n",
       "      <td>1082</td>\n",
       "      <td>2015-05-14</td>\n",
       "      <td>R3B</td>\n",
       "      <td>1</td>\n",
       "      <td>230.9475</td>\n",
       "      <td>Canada</td>\n",
       "    </tr>\n",
       "    <tr>\n",
       "      <th>4</th>\n",
       "      <td>1082</td>\n",
       "      <td>2015-06-30</td>\n",
       "      <td>T6J</td>\n",
       "      <td>1</td>\n",
       "      <td>230.9475</td>\n",
       "      <td>Canada</td>\n",
       "    </tr>\n",
       "  </tbody>\n",
       "</table>\n",
       "</div>"
      ],
      "text/plain": [
       "   ProductID        Date  Zip  Units   Revenue Country\n",
       "0       1082  2012-06-28  R3E      1  225.6975  Canada\n",
       "1       1082  2012-12-14  M6H      1  230.9475  Canada\n",
       "2       1082  2013-05-03  L5T      1  230.9475  Canada\n",
       "3       1082  2015-05-14  R3B      1  230.9475  Canada\n",
       "4       1082  2015-06-30  T6J      1  230.9475  Canada"
      ]
     },
     "execution_count": 5,
     "metadata": {},
     "output_type": "execute_result"
    }
   ],
   "source": [
    "can_df.head()"
   ]
  },
  {
   "cell_type": "code",
   "execution_count": 6,
   "metadata": {},
   "outputs": [
    {
     "name": "stdout",
     "output_type": "stream",
     "text": [
      "<class 'pandas.core.frame.DataFrame'>\n",
      "RangeIndex: 46104 entries, 0 to 46103\n",
      "Data columns (total 6 columns):\n",
      " #   Column     Non-Null Count  Dtype  \n",
      "---  ------     --------------  -----  \n",
      " 0   ProductID  46104 non-null  int64  \n",
      " 1   Date       46104 non-null  object \n",
      " 2   Zip        46104 non-null  object \n",
      " 3   Units      46104 non-null  int64  \n",
      " 4   Revenue    46104 non-null  float64\n",
      " 5   Country    46104 non-null  object \n",
      "dtypes: float64(1), int64(2), object(3)\n",
      "memory usage: 2.1+ MB\n"
     ]
    }
   ],
   "source": [
    "can_df.info()"
   ]
  },
  {
   "cell_type": "code",
   "execution_count": 7,
   "metadata": {},
   "outputs": [
    {
     "data": {
      "text/html": [
       "<div>\n",
       "<style scoped>\n",
       "    .dataframe tbody tr th:only-of-type {\n",
       "        vertical-align: middle;\n",
       "    }\n",
       "\n",
       "    .dataframe tbody tr th {\n",
       "        vertical-align: top;\n",
       "    }\n",
       "\n",
       "    .dataframe thead th {\n",
       "        text-align: right;\n",
       "    }\n",
       "</style>\n",
       "<table border=\"1\" class=\"dataframe\">\n",
       "  <thead>\n",
       "    <tr style=\"text-align: right;\">\n",
       "      <th></th>\n",
       "      <th>ProductID</th>\n",
       "      <th>Date</th>\n",
       "      <th>Zip</th>\n",
       "      <th>Units</th>\n",
       "      <th>Revenue</th>\n",
       "      <th>Country</th>\n",
       "    </tr>\n",
       "  </thead>\n",
       "  <tbody>\n",
       "    <tr>\n",
       "      <th>0</th>\n",
       "      <td>1052</td>\n",
       "      <td>2018-03-24</td>\n",
       "      <td>13591</td>\n",
       "      <td>1</td>\n",
       "      <td>246.7</td>\n",
       "      <td>Germany</td>\n",
       "    </tr>\n",
       "    <tr>\n",
       "      <th>1</th>\n",
       "      <td>1052</td>\n",
       "      <td>2018-03-31</td>\n",
       "      <td>46045</td>\n",
       "      <td>1</td>\n",
       "      <td>246.7</td>\n",
       "      <td>Germany</td>\n",
       "    </tr>\n",
       "    <tr>\n",
       "      <th>2</th>\n",
       "      <td>1052</td>\n",
       "      <td>2018-04-28</td>\n",
       "      <td>22417</td>\n",
       "      <td>1</td>\n",
       "      <td>246.7</td>\n",
       "      <td>Germany</td>\n",
       "    </tr>\n",
       "    <tr>\n",
       "      <th>3</th>\n",
       "      <td>1052</td>\n",
       "      <td>2018-06-21</td>\n",
       "      <td>50968</td>\n",
       "      <td>1</td>\n",
       "      <td>246.7</td>\n",
       "      <td>Germany</td>\n",
       "    </tr>\n",
       "    <tr>\n",
       "      <th>4</th>\n",
       "      <td>1052</td>\n",
       "      <td>2018-08-15</td>\n",
       "      <td>52538</td>\n",
       "      <td>1</td>\n",
       "      <td>246.7</td>\n",
       "      <td>Germany</td>\n",
       "    </tr>\n",
       "  </tbody>\n",
       "</table>\n",
       "</div>"
      ],
      "text/plain": [
       "   ProductID        Date    Zip  Units  Revenue  Country\n",
       "0       1052  2018-03-24  13591      1    246.7  Germany\n",
       "1       1052  2018-03-31  46045      1    246.7  Germany\n",
       "2       1052  2018-04-28  22417      1    246.7  Germany\n",
       "3       1052  2018-06-21  50968      1    246.7  Germany\n",
       "4       1052  2018-08-15  52538      1    246.7  Germany"
      ]
     },
     "execution_count": 7,
     "metadata": {},
     "output_type": "execute_result"
    }
   ],
   "source": [
    "ger_df.head()"
   ]
  },
  {
   "cell_type": "code",
   "execution_count": 8,
   "metadata": {},
   "outputs": [
    {
     "name": "stdout",
     "output_type": "stream",
     "text": [
      "<class 'pandas.core.frame.DataFrame'>\n",
      "RangeIndex: 137619 entries, 0 to 137618\n",
      "Data columns (total 6 columns):\n",
      " #   Column     Non-Null Count   Dtype  \n",
      "---  ------     --------------   -----  \n",
      " 0   ProductID  137619 non-null  int64  \n",
      " 1   Date       137619 non-null  object \n",
      " 2   Zip        137619 non-null  int64  \n",
      " 3   Units      137619 non-null  int64  \n",
      " 4   Revenue    137619 non-null  float64\n",
      " 5   Country    137619 non-null  object \n",
      "dtypes: float64(1), int64(3), object(2)\n",
      "memory usage: 6.3+ MB\n"
     ]
    }
   ],
   "source": [
    "ger_df.info()"
   ]
  },
  {
   "cell_type": "code",
   "execution_count": 9,
   "metadata": {},
   "outputs": [
    {
     "data": {
      "text/html": [
       "<div>\n",
       "<style scoped>\n",
       "    .dataframe tbody tr th:only-of-type {\n",
       "        vertical-align: middle;\n",
       "    }\n",
       "\n",
       "    .dataframe tbody tr th {\n",
       "        vertical-align: top;\n",
       "    }\n",
       "\n",
       "    .dataframe thead th {\n",
       "        text-align: right;\n",
       "    }\n",
       "</style>\n",
       "<table border=\"1\" class=\"dataframe\">\n",
       "  <thead>\n",
       "    <tr style=\"text-align: right;\">\n",
       "      <th></th>\n",
       "      <th>ProductID</th>\n",
       "      <th>Date</th>\n",
       "      <th>Zip</th>\n",
       "      <th>Units</th>\n",
       "      <th>Revenue</th>\n",
       "      <th>Country</th>\n",
       "    </tr>\n",
       "  </thead>\n",
       "  <tbody>\n",
       "    <tr>\n",
       "      <th>0</th>\n",
       "      <td>1085</td>\n",
       "      <td>2017-07-19</td>\n",
       "      <td>961-0917</td>\n",
       "      <td>1</td>\n",
       "      <td>86.5725</td>\n",
       "      <td>Japan</td>\n",
       "    </tr>\n",
       "    <tr>\n",
       "      <th>1</th>\n",
       "      <td>1085</td>\n",
       "      <td>2017-07-29</td>\n",
       "      <td>747-0004</td>\n",
       "      <td>1</td>\n",
       "      <td>86.5725</td>\n",
       "      <td>Japan</td>\n",
       "    </tr>\n",
       "    <tr>\n",
       "      <th>2</th>\n",
       "      <td>1085</td>\n",
       "      <td>2017-08-06</td>\n",
       "      <td>750-0052</td>\n",
       "      <td>1</td>\n",
       "      <td>86.5725</td>\n",
       "      <td>Japan</td>\n",
       "    </tr>\n",
       "    <tr>\n",
       "      <th>3</th>\n",
       "      <td>1085</td>\n",
       "      <td>2017-08-10</td>\n",
       "      <td>720-2106</td>\n",
       "      <td>2</td>\n",
       "      <td>173.1450</td>\n",
       "      <td>Japan</td>\n",
       "    </tr>\n",
       "    <tr>\n",
       "      <th>4</th>\n",
       "      <td>1085</td>\n",
       "      <td>2017-08-13</td>\n",
       "      <td>747-0044</td>\n",
       "      <td>1</td>\n",
       "      <td>86.5725</td>\n",
       "      <td>Japan</td>\n",
       "    </tr>\n",
       "  </tbody>\n",
       "</table>\n",
       "</div>"
      ],
      "text/plain": [
       "   ProductID        Date       Zip  Units   Revenue Country\n",
       "0       1085  2017-07-19  961-0917      1   86.5725   Japan\n",
       "1       1085  2017-07-29  747-0004      1   86.5725   Japan\n",
       "2       1085  2017-08-06  750-0052      1   86.5725   Japan\n",
       "3       1085  2017-08-10  720-2106      2  173.1450   Japan\n",
       "4       1085  2017-08-13  747-0044      1   86.5725   Japan"
      ]
     },
     "execution_count": 9,
     "metadata": {},
     "output_type": "execute_result"
    }
   ],
   "source": [
    "jap_df.head()"
   ]
  },
  {
   "cell_type": "code",
   "execution_count": 10,
   "metadata": {},
   "outputs": [
    {
     "name": "stdout",
     "output_type": "stream",
     "text": [
      "<class 'pandas.core.frame.DataFrame'>\n",
      "RangeIndex: 527304 entries, 0 to 527303\n",
      "Data columns (total 6 columns):\n",
      " #   Column     Non-Null Count   Dtype  \n",
      "---  ------     --------------   -----  \n",
      " 0   ProductID  527304 non-null  int64  \n",
      " 1   Date       527304 non-null  object \n",
      " 2   Zip        527304 non-null  object \n",
      " 3   Units      527304 non-null  int64  \n",
      " 4   Revenue    527304 non-null  float64\n",
      " 5   Country    527304 non-null  object \n",
      "dtypes: float64(1), int64(2), object(3)\n",
      "memory usage: 24.1+ MB\n"
     ]
    }
   ],
   "source": [
    "jap_df.info()"
   ]
  },
  {
   "cell_type": "code",
   "execution_count": 11,
   "metadata": {},
   "outputs": [
    {
     "data": {
      "text/html": [
       "<div>\n",
       "<style scoped>\n",
       "    .dataframe tbody tr th:only-of-type {\n",
       "        vertical-align: middle;\n",
       "    }\n",
       "\n",
       "    .dataframe tbody tr th {\n",
       "        vertical-align: top;\n",
       "    }\n",
       "\n",
       "    .dataframe thead th {\n",
       "        text-align: right;\n",
       "    }\n",
       "</style>\n",
       "<table border=\"1\" class=\"dataframe\">\n",
       "  <thead>\n",
       "    <tr style=\"text-align: right;\">\n",
       "      <th></th>\n",
       "      <th>ProductID</th>\n",
       "      <th>Date</th>\n",
       "      <th>Zip</th>\n",
       "      <th>Units</th>\n",
       "      <th>Revenue</th>\n",
       "      <th>Country</th>\n",
       "    </tr>\n",
       "  </thead>\n",
       "  <tbody>\n",
       "    <tr>\n",
       "      <th>0</th>\n",
       "      <td>1052</td>\n",
       "      <td>2018-03-31</td>\n",
       "      <td>9510</td>\n",
       "      <td>1</td>\n",
       "      <td>246.70</td>\n",
       "      <td>Mexico</td>\n",
       "    </tr>\n",
       "    <tr>\n",
       "      <th>1</th>\n",
       "      <td>1052</td>\n",
       "      <td>2018-04-17</td>\n",
       "      <td>12400</td>\n",
       "      <td>1</td>\n",
       "      <td>246.70</td>\n",
       "      <td>Mexico</td>\n",
       "    </tr>\n",
       "    <tr>\n",
       "      <th>2</th>\n",
       "      <td>1052</td>\n",
       "      <td>2018-08-29</td>\n",
       "      <td>9719</td>\n",
       "      <td>1</td>\n",
       "      <td>246.70</td>\n",
       "      <td>Mexico</td>\n",
       "    </tr>\n",
       "    <tr>\n",
       "      <th>3</th>\n",
       "      <td>1053</td>\n",
       "      <td>2011-04-15</td>\n",
       "      <td>2260</td>\n",
       "      <td>1</td>\n",
       "      <td>251.95</td>\n",
       "      <td>Mexico</td>\n",
       "    </tr>\n",
       "    <tr>\n",
       "      <th>4</th>\n",
       "      <td>1057</td>\n",
       "      <td>2015-06-16</td>\n",
       "      <td>7909</td>\n",
       "      <td>1</td>\n",
       "      <td>136.45</td>\n",
       "      <td>Mexico</td>\n",
       "    </tr>\n",
       "  </tbody>\n",
       "</table>\n",
       "</div>"
      ],
      "text/plain": [
       "   ProductID        Date    Zip  Units  Revenue Country\n",
       "0       1052  2018-03-31   9510      1   246.70  Mexico\n",
       "1       1052  2018-04-17  12400      1   246.70  Mexico\n",
       "2       1052  2018-08-29   9719      1   246.70  Mexico\n",
       "3       1053  2011-04-15   2260      1   251.95  Mexico\n",
       "4       1057  2015-06-16   7909      1   136.45  Mexico"
      ]
     },
     "execution_count": 11,
     "metadata": {},
     "output_type": "execute_result"
    }
   ],
   "source": [
    "mex_df.head()"
   ]
  },
  {
   "cell_type": "code",
   "execution_count": 12,
   "metadata": {},
   "outputs": [
    {
     "name": "stdout",
     "output_type": "stream",
     "text": [
      "<class 'pandas.core.frame.DataFrame'>\n",
      "RangeIndex: 128571 entries, 0 to 128570\n",
      "Data columns (total 6 columns):\n",
      " #   Column     Non-Null Count   Dtype  \n",
      "---  ------     --------------   -----  \n",
      " 0   ProductID  128571 non-null  int64  \n",
      " 1   Date       128571 non-null  object \n",
      " 2   Zip        128571 non-null  int64  \n",
      " 3   Units      128571 non-null  int64  \n",
      " 4   Revenue    128571 non-null  float64\n",
      " 5   Country    128571 non-null  object \n",
      "dtypes: float64(1), int64(3), object(2)\n",
      "memory usage: 5.9+ MB\n"
     ]
    }
   ],
   "source": [
    "mex_df.info()"
   ]
  },
  {
   "cell_type": "code",
   "execution_count": 13,
   "metadata": {},
   "outputs": [
    {
     "data": {
      "text/html": [
       "<div>\n",
       "<style scoped>\n",
       "    .dataframe tbody tr th:only-of-type {\n",
       "        vertical-align: middle;\n",
       "    }\n",
       "\n",
       "    .dataframe tbody tr th {\n",
       "        vertical-align: top;\n",
       "    }\n",
       "\n",
       "    .dataframe thead th {\n",
       "        text-align: right;\n",
       "    }\n",
       "</style>\n",
       "<table border=\"1\" class=\"dataframe\">\n",
       "  <thead>\n",
       "    <tr style=\"text-align: right;\">\n",
       "      <th></th>\n",
       "      <th>ProductID</th>\n",
       "      <th>Date</th>\n",
       "      <th>Zip</th>\n",
       "      <th>Units</th>\n",
       "      <th>Revenue</th>\n",
       "      <th>Country</th>\n",
       "    </tr>\n",
       "  </thead>\n",
       "  <tbody>\n",
       "    <tr>\n",
       "      <th>0</th>\n",
       "      <td>2136</td>\n",
       "      <td>2018-05-12</td>\n",
       "      <td>101001</td>\n",
       "      <td>1</td>\n",
       "      <td>419.95</td>\n",
       "      <td>Nigeria</td>\n",
       "    </tr>\n",
       "    <tr>\n",
       "      <th>1</th>\n",
       "      <td>2055</td>\n",
       "      <td>2013-05-04</td>\n",
       "      <td>101001</td>\n",
       "      <td>1</td>\n",
       "      <td>569.57</td>\n",
       "      <td>Nigeria</td>\n",
       "    </tr>\n",
       "    <tr>\n",
       "      <th>2</th>\n",
       "      <td>2055</td>\n",
       "      <td>2014-05-17</td>\n",
       "      <td>101001</td>\n",
       "      <td>1</td>\n",
       "      <td>569.57</td>\n",
       "      <td>Nigeria</td>\n",
       "    </tr>\n",
       "    <tr>\n",
       "      <th>3</th>\n",
       "      <td>2055</td>\n",
       "      <td>2014-06-05</td>\n",
       "      <td>101001</td>\n",
       "      <td>1</td>\n",
       "      <td>569.57</td>\n",
       "      <td>Nigeria</td>\n",
       "    </tr>\n",
       "    <tr>\n",
       "      <th>4</th>\n",
       "      <td>2055</td>\n",
       "      <td>2014-10-29</td>\n",
       "      <td>101001</td>\n",
       "      <td>1</td>\n",
       "      <td>569.57</td>\n",
       "      <td>Nigeria</td>\n",
       "    </tr>\n",
       "  </tbody>\n",
       "</table>\n",
       "</div>"
      ],
      "text/plain": [
       "   ProductID        Date     Zip  Units  Revenue  Country\n",
       "0       2136  2018-05-12  101001      1   419.95  Nigeria\n",
       "1       2055  2013-05-04  101001      1   569.57  Nigeria\n",
       "2       2055  2014-05-17  101001      1   569.57  Nigeria\n",
       "3       2055  2014-06-05  101001      1   569.57  Nigeria\n",
       "4       2055  2014-10-29  101001      1   569.57  Nigeria"
      ]
     },
     "execution_count": 13,
     "metadata": {},
     "output_type": "execute_result"
    }
   ],
   "source": [
    "nig_df.head()"
   ]
  },
  {
   "cell_type": "code",
   "execution_count": 14,
   "metadata": {},
   "outputs": [
    {
     "name": "stdout",
     "output_type": "stream",
     "text": [
      "<class 'pandas.core.frame.DataFrame'>\n",
      "RangeIndex: 204904 entries, 0 to 204903\n",
      "Data columns (total 6 columns):\n",
      " #   Column     Non-Null Count   Dtype  \n",
      "---  ------     --------------   -----  \n",
      " 0   ProductID  204904 non-null  int64  \n",
      " 1   Date       204904 non-null  object \n",
      " 2   Zip        204904 non-null  int64  \n",
      " 3   Units      204904 non-null  int64  \n",
      " 4   Revenue    204904 non-null  float64\n",
      " 5   Country    204904 non-null  object \n",
      "dtypes: float64(1), int64(3), object(2)\n",
      "memory usage: 9.4+ MB\n"
     ]
    }
   ],
   "source": [
    "nig_df.info()"
   ]
  },
  {
   "cell_type": "code",
   "execution_count": 15,
   "metadata": {},
   "outputs": [
    {
     "data": {
      "text/html": [
       "<div>\n",
       "<style scoped>\n",
       "    .dataframe tbody tr th:only-of-type {\n",
       "        vertical-align: middle;\n",
       "    }\n",
       "\n",
       "    .dataframe tbody tr th {\n",
       "        vertical-align: top;\n",
       "    }\n",
       "\n",
       "    .dataframe thead th {\n",
       "        text-align: right;\n",
       "    }\n",
       "</style>\n",
       "<table border=\"1\" class=\"dataframe\">\n",
       "  <thead>\n",
       "    <tr style=\"text-align: right;\">\n",
       "      <th></th>\n",
       "      <th>Zip</th>\n",
       "      <th>City</th>\n",
       "      <th>State</th>\n",
       "      <th>Region</th>\n",
       "      <th>District</th>\n",
       "      <th>Country</th>\n",
       "    </tr>\n",
       "  </thead>\n",
       "  <tbody>\n",
       "    <tr>\n",
       "      <th>0</th>\n",
       "      <td>22654</td>\n",
       "      <td>Star Tannery, VA, USA</td>\n",
       "      <td>VA</td>\n",
       "      <td>East</td>\n",
       "      <td>District #07</td>\n",
       "      <td>USA</td>\n",
       "    </tr>\n",
       "    <tr>\n",
       "      <th>1</th>\n",
       "      <td>22655</td>\n",
       "      <td>Stephens City, VA, USA</td>\n",
       "      <td>VA</td>\n",
       "      <td>East</td>\n",
       "      <td>District #07</td>\n",
       "      <td>USA</td>\n",
       "    </tr>\n",
       "    <tr>\n",
       "      <th>2</th>\n",
       "      <td>22656</td>\n",
       "      <td>Stephenson, VA, USA</td>\n",
       "      <td>VA</td>\n",
       "      <td>East</td>\n",
       "      <td>District #07</td>\n",
       "      <td>USA</td>\n",
       "    </tr>\n",
       "    <tr>\n",
       "      <th>3</th>\n",
       "      <td>22657</td>\n",
       "      <td>Strasburg, VA, USA</td>\n",
       "      <td>VA</td>\n",
       "      <td>East</td>\n",
       "      <td>District #07</td>\n",
       "      <td>USA</td>\n",
       "    </tr>\n",
       "    <tr>\n",
       "      <th>4</th>\n",
       "      <td>22660</td>\n",
       "      <td>Toms Brook, VA, USA</td>\n",
       "      <td>VA</td>\n",
       "      <td>East</td>\n",
       "      <td>District #07</td>\n",
       "      <td>USA</td>\n",
       "    </tr>\n",
       "  </tbody>\n",
       "</table>\n",
       "</div>"
      ],
      "text/plain": [
       "     Zip                    City State Region      District Country\n",
       "0  22654   Star Tannery, VA, USA    VA   East  District #07     USA\n",
       "1  22655  Stephens City, VA, USA    VA   East  District #07     USA\n",
       "2  22656     Stephenson, VA, USA    VA   East  District #07     USA\n",
       "3  22657      Strasburg, VA, USA    VA   East  District #07     USA\n",
       "4  22660     Toms Brook, VA, USA    VA   East  District #07     USA"
      ]
     },
     "execution_count": 15,
     "metadata": {},
     "output_type": "execute_result"
    }
   ],
   "source": [
    "geo_df.head()"
   ]
  },
  {
   "cell_type": "code",
   "execution_count": 16,
   "metadata": {},
   "outputs": [
    {
     "name": "stdout",
     "output_type": "stream",
     "text": [
      "<class 'pandas.core.frame.DataFrame'>\n",
      "RangeIndex: 176929 entries, 0 to 176928\n",
      "Data columns (total 6 columns):\n",
      " #   Column    Non-Null Count   Dtype \n",
      "---  ------    --------------   ----- \n",
      " 0   Zip       176929 non-null  object\n",
      " 1   City      158385 non-null  object\n",
      " 2   State     176887 non-null  object\n",
      " 3   Region    39990 non-null   object\n",
      " 4   District  165952 non-null  object\n",
      " 5   Country   176929 non-null  object\n",
      "dtypes: object(6)\n",
      "memory usage: 8.1+ MB\n"
     ]
    }
   ],
   "source": [
    "geo_df.info()"
   ]
  },
  {
   "cell_type": "code",
   "execution_count": 17,
   "metadata": {},
   "outputs": [
    {
     "data": {
      "text/html": [
       "<div>\n",
       "<style scoped>\n",
       "    .dataframe tbody tr th:only-of-type {\n",
       "        vertical-align: middle;\n",
       "    }\n",
       "\n",
       "    .dataframe tbody tr th {\n",
       "        vertical-align: top;\n",
       "    }\n",
       "\n",
       "    .dataframe thead th {\n",
       "        text-align: right;\n",
       "    }\n",
       "</style>\n",
       "<table border=\"1\" class=\"dataframe\">\n",
       "  <thead>\n",
       "    <tr style=\"text-align: right;\">\n",
       "      <th></th>\n",
       "      <th>ManufacturerID</th>\n",
       "      <th>Manufacturer</th>\n",
       "      <th>Logo</th>\n",
       "    </tr>\n",
       "  </thead>\n",
       "  <tbody>\n",
       "    <tr>\n",
       "      <th>0</th>\n",
       "      <td>1</td>\n",
       "      <td>Abbas</td>\n",
       "      <td>https://raw.githubusercontent.com/CharlesSterl...</td>\n",
       "    </tr>\n",
       "    <tr>\n",
       "      <th>1</th>\n",
       "      <td>2</td>\n",
       "      <td>Aliqui</td>\n",
       "      <td>https://raw.githubusercontent.com/CharlesSterl...</td>\n",
       "    </tr>\n",
       "    <tr>\n",
       "      <th>2</th>\n",
       "      <td>3</td>\n",
       "      <td>Barba</td>\n",
       "      <td>https://raw.githubusercontent.com/CharlesSterl...</td>\n",
       "    </tr>\n",
       "    <tr>\n",
       "      <th>3</th>\n",
       "      <td>4</td>\n",
       "      <td>Currus</td>\n",
       "      <td>https://raw.githubusercontent.com/CharlesSterl...</td>\n",
       "    </tr>\n",
       "    <tr>\n",
       "      <th>4</th>\n",
       "      <td>5</td>\n",
       "      <td>Fama</td>\n",
       "      <td>https://raw.githubusercontent.com/CharlesSterl...</td>\n",
       "    </tr>\n",
       "  </tbody>\n",
       "</table>\n",
       "</div>"
      ],
      "text/plain": [
       "   ManufacturerID Manufacturer  \\\n",
       "0               1        Abbas   \n",
       "1               2       Aliqui   \n",
       "2               3        Barba   \n",
       "3               4       Currus   \n",
       "4               5         Fama   \n",
       "\n",
       "                                                Logo  \n",
       "0  https://raw.githubusercontent.com/CharlesSterl...  \n",
       "1  https://raw.githubusercontent.com/CharlesSterl...  \n",
       "2  https://raw.githubusercontent.com/CharlesSterl...  \n",
       "3  https://raw.githubusercontent.com/CharlesSterl...  \n",
       "4  https://raw.githubusercontent.com/CharlesSterl...  "
      ]
     },
     "execution_count": 17,
     "metadata": {},
     "output_type": "execute_result"
    }
   ],
   "source": [
    "manu_df.head()"
   ]
  },
  {
   "cell_type": "markdown",
   "metadata": {},
   "source": []
  },
  {
   "cell_type": "code",
   "execution_count": 18,
   "metadata": {},
   "outputs": [
    {
     "name": "stdout",
     "output_type": "stream",
     "text": [
      "<class 'pandas.core.frame.DataFrame'>\n",
      "RangeIndex: 14 entries, 0 to 13\n",
      "Data columns (total 3 columns):\n",
      " #   Column          Non-Null Count  Dtype \n",
      "---  ------          --------------  ----- \n",
      " 0   ManufacturerID  14 non-null     int64 \n",
      " 1   Manufacturer    14 non-null     object\n",
      " 2   Logo            14 non-null     object\n",
      "dtypes: int64(1), object(2)\n",
      "memory usage: 464.0+ bytes\n"
     ]
    }
   ],
   "source": [
    "manu_df.info()"
   ]
  },
  {
   "cell_type": "code",
   "execution_count": 19,
   "metadata": {},
   "outputs": [
    {
     "data": {
      "text/plain": [
       "<bound method NDFrame.head of       ProductID                 Product Category  ManufacturerID  Price USD\n",
       "0             1  Abbas MA-01|All Season      Mix               1   412.1300\n",
       "1             2  Abbas MA-02|All Season      NaN               1   329.7800\n",
       "2             3  Abbas MA-03|All Season      NaN               1   963.3800\n",
       "3             4  Abbas MA-04|All Season      NaN               1   828.9800\n",
       "4             5  Abbas MA-05|All Season      NaN               1   745.5000\n",
       "...         ...                     ...      ...             ...        ...\n",
       "2407       2408      Aliqui YY-17|Youth      NaN               2   329.7800\n",
       "2408       2409      Aliqui YY-18|Youth      NaN               2   329.7800\n",
       "2409       2410      Aliqui YY-19|Youth      NaN               2   104.9500\n",
       "2410       2411      Aliqui YY-20|Youth      NaN               2   115.4475\n",
       "2411       2412      Aliqui YY-21|Youth      NaN               2   120.2300\n",
       "\n",
       "[2412 rows x 5 columns]>"
      ]
     },
     "execution_count": 19,
     "metadata": {},
     "output_type": "execute_result"
    }
   ],
   "source": [
    "product_df.head"
   ]
  },
  {
   "cell_type": "code",
   "execution_count": 20,
   "metadata": {},
   "outputs": [
    {
     "name": "stdout",
     "output_type": "stream",
     "text": [
      "<class 'pandas.core.frame.DataFrame'>\n",
      "RangeIndex: 2412 entries, 0 to 2411\n",
      "Data columns (total 5 columns):\n",
      " #   Column          Non-Null Count  Dtype  \n",
      "---  ------          --------------  -----  \n",
      " 0   ProductID       2412 non-null   int64  \n",
      " 1   Product         2412 non-null   object \n",
      " 2   Category        78 non-null     object \n",
      " 3   ManufacturerID  2412 non-null   int64  \n",
      " 4   Price USD       2412 non-null   float64\n",
      "dtypes: float64(1), int64(2), object(2)\n",
      "memory usage: 94.3+ KB\n"
     ]
    }
   ],
   "source": [
    "product_df.info()"
   ]
  },
  {
   "cell_type": "code",
   "execution_count": 21,
   "metadata": {},
   "outputs": [
    {
     "data": {
      "text/html": [
       "<div>\n",
       "<style scoped>\n",
       "    .dataframe tbody tr th:only-of-type {\n",
       "        vertical-align: middle;\n",
       "    }\n",
       "\n",
       "    .dataframe tbody tr th {\n",
       "        vertical-align: top;\n",
       "    }\n",
       "\n",
       "    .dataframe thead th {\n",
       "        text-align: right;\n",
       "    }\n",
       "</style>\n",
       "<table border=\"1\" class=\"dataframe\">\n",
       "  <thead>\n",
       "    <tr style=\"text-align: right;\">\n",
       "      <th></th>\n",
       "      <th>ProductID</th>\n",
       "      <th>Date</th>\n",
       "      <th>Zip</th>\n",
       "      <th>Units</th>\n",
       "      <th>Revenue</th>\n",
       "    </tr>\n",
       "  </thead>\n",
       "  <tbody>\n",
       "    <tr>\n",
       "      <th>0</th>\n",
       "      <td>1076</td>\n",
       "      <td>2012-01-20</td>\n",
       "      <td>72638</td>\n",
       "      <td>1</td>\n",
       "      <td>254.5725</td>\n",
       "    </tr>\n",
       "    <tr>\n",
       "      <th>1</th>\n",
       "      <td>1076</td>\n",
       "      <td>2012-01-21</td>\n",
       "      <td>47577</td>\n",
       "      <td>1</td>\n",
       "      <td>254.5725</td>\n",
       "    </tr>\n",
       "    <tr>\n",
       "      <th>2</th>\n",
       "      <td>1076</td>\n",
       "      <td>2012-01-28</td>\n",
       "      <td>34653</td>\n",
       "      <td>1</td>\n",
       "      <td>254.5725</td>\n",
       "    </tr>\n",
       "    <tr>\n",
       "      <th>3</th>\n",
       "      <td>1076</td>\n",
       "      <td>2012-01-31</td>\n",
       "      <td>84014</td>\n",
       "      <td>1</td>\n",
       "      <td>254.5725</td>\n",
       "    </tr>\n",
       "    <tr>\n",
       "      <th>4</th>\n",
       "      <td>1076</td>\n",
       "      <td>2012-02-01</td>\n",
       "      <td>75070</td>\n",
       "      <td>1</td>\n",
       "      <td>254.5725</td>\n",
       "    </tr>\n",
       "  </tbody>\n",
       "</table>\n",
       "</div>"
      ],
      "text/plain": [
       "   ProductID        Date    Zip  Units   Revenue\n",
       "0       1076  2012-01-20  72638      1  254.5725\n",
       "1       1076  2012-01-21  47577      1  254.5725\n",
       "2       1076  2012-01-28  34653      1  254.5725\n",
       "3       1076  2012-01-31  84014      1  254.5725\n",
       "4       1076  2012-02-01  75070      1  254.5725"
      ]
     },
     "execution_count": 21,
     "metadata": {},
     "output_type": "execute_result"
    }
   ],
   "source": [
    "sales_df.head()"
   ]
  },
  {
   "cell_type": "code",
   "execution_count": 22,
   "metadata": {},
   "outputs": [
    {
     "name": "stdout",
     "output_type": "stream",
     "text": [
      "<class 'pandas.core.frame.DataFrame'>\n",
      "RangeIndex: 4198753 entries, 0 to 4198752\n",
      "Data columns (total 5 columns):\n",
      " #   Column     Dtype  \n",
      "---  ------     -----  \n",
      " 0   ProductID  int64  \n",
      " 1   Date       object \n",
      " 2   Zip        int64  \n",
      " 3   Units      int64  \n",
      " 4   Revenue    float64\n",
      "dtypes: float64(1), int64(3), object(1)\n",
      "memory usage: 160.2+ MB\n"
     ]
    }
   ],
   "source": [
    "sales_df.info()"
   ]
  },
  {
   "attachments": {},
   "cell_type": "markdown",
   "metadata": {},
   "source": [
    "## Preprocessing data\n",
    "Combine dataframe"
   ]
  },
  {
   "cell_type": "code",
   "execution_count": 23,
   "metadata": {},
   "outputs": [
    {
     "name": "stdout",
     "output_type": "stream",
     "text": [
      "<class 'pandas.core.frame.DataFrame'>\n",
      "Int64Index: 7235490 entries, 0 to 7235489\n",
      "Data columns (total 18 columns):\n",
      " #   Column          Dtype  \n",
      "---  ------          -----  \n",
      " 0   ProductID       int64  \n",
      " 1   Date            object \n",
      " 2   Zip             object \n",
      " 3   Units           int64  \n",
      " 4   Revenue         float64\n",
      " 5   City            object \n",
      " 6   State           object \n",
      " 7   Region          object \n",
      " 8   District        object \n",
      " 9   Country         object \n",
      " 10  Product         object \n",
      " 11  Category        object \n",
      " 12  ManufacturerID  int64  \n",
      " 13  Price USD       float64\n",
      " 14  Manufacturer    object \n",
      " 15  Logo            object \n",
      " 16  year            int64  \n",
      " 17  month           int64  \n",
      "dtypes: float64(2), int64(5), object(11)\n",
      "memory usage: 1.0+ GB\n"
     ]
    }
   ],
   "source": [
    "# Merge countries dataframe into one country dataframe\n",
    "countries_df = pd.concat([aus_df,can_df,ger_df,jap_df,mex_df,nig_df])\n",
    "\n",
    "#countries_df['zip-country'] = countries_df['Zip'].astype(str) + countries_df['Country']\n",
    "#geo_df['zip-country'] = geo_df['Zip'].astype(str) + geo_df['Country']\n",
    "\n",
    "# Merge mdm dataframe into one ww dataframe\n",
    "ww_df = pd.concat([sales_df,countries_df]).drop(\"Country\",axis = 1)\n",
    "ww_df = ww_df.merge(geo_df.groupby('Zip').agg({'City':'first', 'State':'first', 'Region':'first', 'District':'first', 'Country':'first'}),how='left',on = 'Zip').merge(product_df,how='left',on = 'ProductID').merge(manu_df,how='left',on = 'ManufacturerID')\n",
    "ww_df['year'] = pd.DatetimeIndex(ww_df['Date']).year\n",
    "ww_df['month'] = pd.DatetimeIndex(ww_df['Date']).month\n",
    "#ww_df.drop_duplicates(keep=False)\n",
    "ww_df.info()\n",
    "\n"
   ]
  },
  {
   "attachments": {},
   "cell_type": "markdown",
   "metadata": {},
   "source": [
    "### Q1:Elaborate a tab ranking country by revenue"
   ]
  },
  {
   "cell_type": "code",
   "execution_count": 24,
   "metadata": {},
   "outputs": [
    {
     "data": {
      "text/html": [
       "<div>\n",
       "<style scoped>\n",
       "    .dataframe tbody tr th:only-of-type {\n",
       "        vertical-align: middle;\n",
       "    }\n",
       "\n",
       "    .dataframe tbody tr th {\n",
       "        vertical-align: top;\n",
       "    }\n",
       "\n",
       "    .dataframe thead th {\n",
       "        text-align: right;\n",
       "    }\n",
       "</style>\n",
       "<table border=\"1\" class=\"dataframe\">\n",
       "  <thead>\n",
       "    <tr style=\"text-align: right;\">\n",
       "      <th></th>\n",
       "      <th>Revenue</th>\n",
       "    </tr>\n",
       "    <tr>\n",
       "      <th>Country</th>\n",
       "      <th></th>\n",
       "    </tr>\n",
       "  </thead>\n",
       "  <tbody>\n",
       "    <tr>\n",
       "      <th>USA</th>\n",
       "      <td>1705.660</td>\n",
       "    </tr>\n",
       "    <tr>\n",
       "      <th>Australia</th>\n",
       "      <td>514.660</td>\n",
       "    </tr>\n",
       "    <tr>\n",
       "      <th>Mexico</th>\n",
       "      <td>293.558</td>\n",
       "    </tr>\n",
       "    <tr>\n",
       "      <th>Japan</th>\n",
       "      <td>227.982</td>\n",
       "    </tr>\n",
       "    <tr>\n",
       "      <th>Nigeria</th>\n",
       "      <td>85.003</td>\n",
       "    </tr>\n",
       "    <tr>\n",
       "      <th>Germany</th>\n",
       "      <td>66.108</td>\n",
       "    </tr>\n",
       "    <tr>\n",
       "      <th>Canada</th>\n",
       "      <td>18.254</td>\n",
       "    </tr>\n",
       "  </tbody>\n",
       "</table>\n",
       "</div>"
      ],
      "text/plain": [
       "            Revenue\n",
       "Country            \n",
       "USA        1705.660\n",
       "Australia   514.660\n",
       "Mexico      293.558\n",
       "Japan       227.982\n",
       "Nigeria      85.003\n",
       "Germany      66.108\n",
       "Canada       18.254"
      ]
     },
     "execution_count": 24,
     "metadata": {},
     "output_type": "execute_result"
    }
   ],
   "source": [
    "# Set \"Country\" index ,sum of the revenue of each country\n",
    "rank_re = ww_df.groupby('Country').agg({\"Revenue\":\"sum\"}) .sort_values('Revenue',ascending=False)\n",
    "# Convert units into million ,keep it with 3 decimals\n",
    "rank_re.Revenue = round(rank_re.Revenue / 10**6, 3)\n",
    "rank_re"
   ]
  },
  {
   "cell_type": "code",
   "execution_count": 25,
   "metadata": {},
   "outputs": [
    {
     "data": {
      "text/html": [
       "<div>\n",
       "<style scoped>\n",
       "    .dataframe tbody tr th:only-of-type {\n",
       "        vertical-align: middle;\n",
       "    }\n",
       "\n",
       "    .dataframe tbody tr th {\n",
       "        vertical-align: top;\n",
       "    }\n",
       "\n",
       "    .dataframe thead th {\n",
       "        text-align: right;\n",
       "    }\n",
       "</style>\n",
       "<table border=\"1\" class=\"dataframe\">\n",
       "  <thead>\n",
       "    <tr style=\"text-align: right;\">\n",
       "      <th></th>\n",
       "      <th>Revenue</th>\n",
       "    </tr>\n",
       "    <tr>\n",
       "      <th>Country</th>\n",
       "      <th></th>\n",
       "    </tr>\n",
       "  </thead>\n",
       "  <tbody>\n",
       "    <tr>\n",
       "      <th>Japan</th>\n",
       "      <td>7.831136</td>\n",
       "    </tr>\n",
       "  </tbody>\n",
       "</table>\n",
       "</div>"
      ],
      "text/plain": [
       "          Revenue\n",
       "Country          \n",
       "Japan    7.831136"
      ]
     },
     "execution_count": 25,
     "metadata": {},
     "output_type": "execute_result"
    }
   ],
   "source": [
    "rank_re[rank_re.index == 'Japan'] / rank_re.sum() *100"
   ]
  },
  {
   "attachments": {},
   "cell_type": "markdown",
   "metadata": {},
   "source": [
    "### Q2:Which countries have the most important revenue growth (in %) between 2011 & 2012?"
   ]
  },
  {
   "cell_type": "code",
   "execution_count": 26,
   "metadata": {},
   "outputs": [
    {
     "data": {
      "text/html": [
       "<div>\n",
       "<style scoped>\n",
       "    .dataframe tbody tr th:only-of-type {\n",
       "        vertical-align: middle;\n",
       "    }\n",
       "\n",
       "    .dataframe tbody tr th {\n",
       "        vertical-align: top;\n",
       "    }\n",
       "\n",
       "    .dataframe thead th {\n",
       "        text-align: right;\n",
       "    }\n",
       "</style>\n",
       "<table border=\"1\" class=\"dataframe\">\n",
       "  <thead>\n",
       "    <tr style=\"text-align: right;\">\n",
       "      <th></th>\n",
       "      <th>Country</th>\n",
       "      <th>year</th>\n",
       "      <th>rgr</th>\n",
       "    </tr>\n",
       "  </thead>\n",
       "  <tbody>\n",
       "    <tr>\n",
       "      <th>33</th>\n",
       "      <td>Mexico</td>\n",
       "      <td>2012</td>\n",
       "      <td>31.76%</td>\n",
       "    </tr>\n",
       "    <tr>\n",
       "      <th>9</th>\n",
       "      <td>Canada</td>\n",
       "      <td>2012</td>\n",
       "      <td>30.66%</td>\n",
       "    </tr>\n",
       "    <tr>\n",
       "      <th>49</th>\n",
       "      <td>USA</td>\n",
       "      <td>2012</td>\n",
       "      <td>28.23%</td>\n",
       "    </tr>\n",
       "    <tr>\n",
       "      <th>1</th>\n",
       "      <td>Australia</td>\n",
       "      <td>2012</td>\n",
       "      <td>26.04%</td>\n",
       "    </tr>\n",
       "    <tr>\n",
       "      <th>41</th>\n",
       "      <td>Nigeria</td>\n",
       "      <td>2012</td>\n",
       "      <td>24.28%</td>\n",
       "    </tr>\n",
       "    <tr>\n",
       "      <th>25</th>\n",
       "      <td>Japan</td>\n",
       "      <td>2012</td>\n",
       "      <td>22.10%</td>\n",
       "    </tr>\n",
       "    <tr>\n",
       "      <th>17</th>\n",
       "      <td>Germany</td>\n",
       "      <td>2012</td>\n",
       "      <td>17.29%</td>\n",
       "    </tr>\n",
       "  </tbody>\n",
       "</table>\n",
       "</div>"
      ],
      "text/plain": [
       "      Country  year     rgr\n",
       "33     Mexico  2012  31.76%\n",
       "9      Canada  2012  30.66%\n",
       "49        USA  2012  28.23%\n",
       "1   Australia  2012  26.04%\n",
       "41    Nigeria  2012  24.28%\n",
       "25      Japan  2012  22.10%\n",
       "17    Germany  2012  17.29%"
      ]
     },
     "execution_count": 26,
     "metadata": {},
     "output_type": "execute_result"
    }
   ],
   "source": [
    "\n",
    "country_rgr = ww_df.groupby(['Country','year']).agg({\"Revenue\":\"sum\"}).reset_index()\n",
    "\n",
    "# calculate revenue growth rate between 2011&2012\n",
    "country_rgr['rgr']=country_rgr.groupby('Country')['Revenue'].pct_change(1).fillna(0).apply(lambda x: format(x, '.2%'))\n",
    "country_rgr= country_rgr[country_rgr['year'] == 2012]\n",
    "\n",
    "# sort the revenue growth rate\n",
    "country_rgr.sort_values('rgr',ascending= False).drop('Revenue',axis = 1)"
   ]
  },
  {
   "attachments": {},
   "cell_type": "markdown",
   "metadata": {},
   "source": [
    "### Q3:Which countries have the most important cumulative revenue growth (in %) between 2011 to 2018?"
   ]
  },
  {
   "cell_type": "code",
   "execution_count": 27,
   "metadata": {},
   "outputs": [
    {
     "data": {
      "text/html": [
       "<div>\n",
       "<style scoped>\n",
       "    .dataframe tbody tr th:only-of-type {\n",
       "        vertical-align: middle;\n",
       "    }\n",
       "\n",
       "    .dataframe tbody tr th {\n",
       "        vertical-align: top;\n",
       "    }\n",
       "\n",
       "    .dataframe thead th {\n",
       "        text-align: right;\n",
       "    }\n",
       "</style>\n",
       "<table border=\"1\" class=\"dataframe\">\n",
       "  <thead>\n",
       "    <tr style=\"text-align: right;\">\n",
       "      <th></th>\n",
       "      <th>Country</th>\n",
       "      <th>year</th>\n",
       "      <th>Revenue</th>\n",
       "      <th>Revenue_shift</th>\n",
       "      <th>cagr</th>\n",
       "    </tr>\n",
       "  </thead>\n",
       "  <tbody>\n",
       "    <tr>\n",
       "      <th>39</th>\n",
       "      <td>Mexico</td>\n",
       "      <td>2018</td>\n",
       "      <td>4.967332e+07</td>\n",
       "      <td>1.998660e+07</td>\n",
       "      <td>13.89%</td>\n",
       "    </tr>\n",
       "    <tr>\n",
       "      <th>55</th>\n",
       "      <td>USA</td>\n",
       "      <td>2018</td>\n",
       "      <td>2.888120e+08</td>\n",
       "      <td>1.193649e+08</td>\n",
       "      <td>13.45%</td>\n",
       "    </tr>\n",
       "    <tr>\n",
       "      <th>7</th>\n",
       "      <td>Australia</td>\n",
       "      <td>2018</td>\n",
       "      <td>8.628688e+07</td>\n",
       "      <td>3.854970e+07</td>\n",
       "      <td>12.20%</td>\n",
       "    </tr>\n",
       "    <tr>\n",
       "      <th>15</th>\n",
       "      <td>Canada</td>\n",
       "      <td>2018</td>\n",
       "      <td>3.012098e+06</td>\n",
       "      <td>1.382820e+06</td>\n",
       "      <td>11.76%</td>\n",
       "    </tr>\n",
       "    <tr>\n",
       "      <th>31</th>\n",
       "      <td>Japan</td>\n",
       "      <td>2018</td>\n",
       "      <td>3.499048e+07</td>\n",
       "      <td>1.837060e+07</td>\n",
       "      <td>9.64%</td>\n",
       "    </tr>\n",
       "    <tr>\n",
       "      <th>23</th>\n",
       "      <td>Germany</td>\n",
       "      <td>2018</td>\n",
       "      <td>1.003448e+07</td>\n",
       "      <td>5.554964e+06</td>\n",
       "      <td>8.81%</td>\n",
       "    </tr>\n",
       "    <tr>\n",
       "      <th>47</th>\n",
       "      <td>Nigeria</td>\n",
       "      <td>2018</td>\n",
       "      <td>1.129704e+07</td>\n",
       "      <td>7.660596e+06</td>\n",
       "      <td>5.71%</td>\n",
       "    </tr>\n",
       "  </tbody>\n",
       "</table>\n",
       "</div>"
      ],
      "text/plain": [
       "      Country  year       Revenue  Revenue_shift    cagr\n",
       "39     Mexico  2018  4.967332e+07   1.998660e+07  13.89%\n",
       "55        USA  2018  2.888120e+08   1.193649e+08  13.45%\n",
       "7   Australia  2018  8.628688e+07   3.854970e+07  12.20%\n",
       "15     Canada  2018  3.012098e+06   1.382820e+06  11.76%\n",
       "31      Japan  2018  3.499048e+07   1.837060e+07   9.64%\n",
       "23    Germany  2018  1.003448e+07   5.554964e+06   8.81%\n",
       "47    Nigeria  2018  1.129704e+07   7.660596e+06   5.71%"
      ]
     },
     "execution_count": 27,
     "metadata": {},
     "output_type": "execute_result"
    }
   ],
   "source": [
    "# calculate cumulative revenue growth rate between 2011&2018\n",
    "country_cagr = ww_df.groupby(['Country','year']).agg({\"Revenue\":\"sum\"}).reset_index()\n",
    "country_cagr['Revenue_shift'] = country_cagr.groupby('Country')['Revenue'].shift(7)\n",
    "\n",
    "country_cagr['cagr']=(country_cagr['Revenue']/country_cagr['Revenue_shift'])**(1/7) - 1\n",
    "country_cagr = country_cagr.sort_values('cagr',ascending= False)\n",
    "country_cagr['cagr']=country_cagr['cagr'].apply(lambda x: format(x, '.2%'))\n",
    "\n",
    "country_cagr= country_cagr[country_cagr['year'] == 2018]\n",
    "\n",
    "# sort the revenue growth rate\n",
    "country_cagr"
   ]
  },
  {
   "attachments": {},
   "cell_type": "markdown",
   "metadata": {},
   "source": [
    "### Q4:List the top 5 best-selling products in the world"
   ]
  },
  {
   "cell_type": "code",
   "execution_count": 28,
   "metadata": {},
   "outputs": [
    {
     "data": {
      "text/html": [
       "<div>\n",
       "<style scoped>\n",
       "    .dataframe tbody tr th:only-of-type {\n",
       "        vertical-align: middle;\n",
       "    }\n",
       "\n",
       "    .dataframe tbody tr th {\n",
       "        vertical-align: top;\n",
       "    }\n",
       "\n",
       "    .dataframe thead th {\n",
       "        text-align: right;\n",
       "    }\n",
       "</style>\n",
       "<table border=\"1\" class=\"dataframe\">\n",
       "  <thead>\n",
       "    <tr style=\"text-align: right;\">\n",
       "      <th></th>\n",
       "      <th>ProductID</th>\n",
       "      <th>Date</th>\n",
       "      <th>Zip</th>\n",
       "      <th>Units</th>\n",
       "      <th>Revenue</th>\n",
       "      <th>City</th>\n",
       "      <th>State</th>\n",
       "      <th>Region</th>\n",
       "      <th>District</th>\n",
       "      <th>Country</th>\n",
       "      <th>Product</th>\n",
       "      <th>Category</th>\n",
       "      <th>ManufacturerID</th>\n",
       "      <th>Price USD</th>\n",
       "      <th>Manufacturer</th>\n",
       "      <th>Logo</th>\n",
       "      <th>year</th>\n",
       "      <th>month</th>\n",
       "    </tr>\n",
       "  </thead>\n",
       "  <tbody>\n",
       "    <tr>\n",
       "      <th>0</th>\n",
       "      <td>1076</td>\n",
       "      <td>2012-01-20</td>\n",
       "      <td>72638</td>\n",
       "      <td>1</td>\n",
       "      <td>254.5725</td>\n",
       "      <td>Green Forest, AR, USA</td>\n",
       "      <td>AR</td>\n",
       "      <td>Central</td>\n",
       "      <td>District #21</td>\n",
       "      <td>USA</td>\n",
       "      <td>Pirum RP-22|Productivity</td>\n",
       "      <td>NaN</td>\n",
       "      <td>10</td>\n",
       "      <td>259.825</td>\n",
       "      <td>Pirum</td>\n",
       "      <td>https://raw.githubusercontent.com/CharlesSterl...</td>\n",
       "      <td>2012</td>\n",
       "      <td>1</td>\n",
       "    </tr>\n",
       "    <tr>\n",
       "      <th>1</th>\n",
       "      <td>1076</td>\n",
       "      <td>2012-01-21</td>\n",
       "      <td>47577</td>\n",
       "      <td>1</td>\n",
       "      <td>254.5725</td>\n",
       "      <td>Saint Meinrad, IN, USA</td>\n",
       "      <td>IN</td>\n",
       "      <td>Central</td>\n",
       "      <td>District #25</td>\n",
       "      <td>USA</td>\n",
       "      <td>Pirum RP-22|Productivity</td>\n",
       "      <td>NaN</td>\n",
       "      <td>10</td>\n",
       "      <td>259.825</td>\n",
       "      <td>Pirum</td>\n",
       "      <td>https://raw.githubusercontent.com/CharlesSterl...</td>\n",
       "      <td>2012</td>\n",
       "      <td>1</td>\n",
       "    </tr>\n",
       "    <tr>\n",
       "      <th>2</th>\n",
       "      <td>1076</td>\n",
       "      <td>2012-01-28</td>\n",
       "      <td>34653</td>\n",
       "      <td>1</td>\n",
       "      <td>254.5725</td>\n",
       "      <td>New Port Richey, FL, USA</td>\n",
       "      <td>FL</td>\n",
       "      <td>East</td>\n",
       "      <td>District #10</td>\n",
       "      <td>USA</td>\n",
       "      <td>Pirum RP-22|Productivity</td>\n",
       "      <td>NaN</td>\n",
       "      <td>10</td>\n",
       "      <td>259.825</td>\n",
       "      <td>Pirum</td>\n",
       "      <td>https://raw.githubusercontent.com/CharlesSterl...</td>\n",
       "      <td>2012</td>\n",
       "      <td>1</td>\n",
       "    </tr>\n",
       "    <tr>\n",
       "      <th>3</th>\n",
       "      <td>1076</td>\n",
       "      <td>2012-01-31</td>\n",
       "      <td>84014</td>\n",
       "      <td>1</td>\n",
       "      <td>254.5725</td>\n",
       "      <td>Centerville, UT, USA</td>\n",
       "      <td>UT</td>\n",
       "      <td>West</td>\n",
       "      <td>District #33</td>\n",
       "      <td>USA</td>\n",
       "      <td>Pirum RP-22|Productivity</td>\n",
       "      <td>NaN</td>\n",
       "      <td>10</td>\n",
       "      <td>259.825</td>\n",
       "      <td>Pirum</td>\n",
       "      <td>https://raw.githubusercontent.com/CharlesSterl...</td>\n",
       "      <td>2012</td>\n",
       "      <td>1</td>\n",
       "    </tr>\n",
       "    <tr>\n",
       "      <th>4</th>\n",
       "      <td>1076</td>\n",
       "      <td>2012-02-01</td>\n",
       "      <td>75070</td>\n",
       "      <td>1</td>\n",
       "      <td>254.5725</td>\n",
       "      <td>Mckinney, TX, USA</td>\n",
       "      <td>TX</td>\n",
       "      <td>Central</td>\n",
       "      <td>District #22</td>\n",
       "      <td>USA</td>\n",
       "      <td>Pirum RP-22|Productivity</td>\n",
       "      <td>NaN</td>\n",
       "      <td>10</td>\n",
       "      <td>259.825</td>\n",
       "      <td>Pirum</td>\n",
       "      <td>https://raw.githubusercontent.com/CharlesSterl...</td>\n",
       "      <td>2012</td>\n",
       "      <td>2</td>\n",
       "    </tr>\n",
       "  </tbody>\n",
       "</table>\n",
       "</div>"
      ],
      "text/plain": [
       "   ProductID        Date    Zip  Units   Revenue                      City  \\\n",
       "0       1076  2012-01-20  72638      1  254.5725     Green Forest, AR, USA   \n",
       "1       1076  2012-01-21  47577      1  254.5725    Saint Meinrad, IN, USA   \n",
       "2       1076  2012-01-28  34653      1  254.5725  New Port Richey, FL, USA   \n",
       "3       1076  2012-01-31  84014      1  254.5725      Centerville, UT, USA   \n",
       "4       1076  2012-02-01  75070      1  254.5725         Mckinney, TX, USA   \n",
       "\n",
       "  State   Region      District Country                   Product Category  \\\n",
       "0    AR  Central  District #21     USA  Pirum RP-22|Productivity      NaN   \n",
       "1    IN  Central  District #25     USA  Pirum RP-22|Productivity      NaN   \n",
       "2    FL     East  District #10     USA  Pirum RP-22|Productivity      NaN   \n",
       "3    UT     West  District #33     USA  Pirum RP-22|Productivity      NaN   \n",
       "4    TX  Central  District #22     USA  Pirum RP-22|Productivity      NaN   \n",
       "\n",
       "   ManufacturerID  Price USD Manufacturer  \\\n",
       "0              10    259.825        Pirum   \n",
       "1              10    259.825        Pirum   \n",
       "2              10    259.825        Pirum   \n",
       "3              10    259.825        Pirum   \n",
       "4              10    259.825        Pirum   \n",
       "\n",
       "                                                Logo  year  month  \n",
       "0  https://raw.githubusercontent.com/CharlesSterl...  2012      1  \n",
       "1  https://raw.githubusercontent.com/CharlesSterl...  2012      1  \n",
       "2  https://raw.githubusercontent.com/CharlesSterl...  2012      1  \n",
       "3  https://raw.githubusercontent.com/CharlesSterl...  2012      1  \n",
       "4  https://raw.githubusercontent.com/CharlesSterl...  2012      2  "
      ]
     },
     "execution_count": 28,
     "metadata": {},
     "output_type": "execute_result"
    }
   ],
   "source": [
    "ww_df.head()\n"
   ]
  },
  {
   "cell_type": "code",
   "execution_count": 29,
   "metadata": {},
   "outputs": [
    {
     "data": {
      "text/html": [
       "<div>\n",
       "<style scoped>\n",
       "    .dataframe tbody tr th:only-of-type {\n",
       "        vertical-align: middle;\n",
       "    }\n",
       "\n",
       "    .dataframe tbody tr th {\n",
       "        vertical-align: top;\n",
       "    }\n",
       "\n",
       "    .dataframe thead th {\n",
       "        text-align: right;\n",
       "    }\n",
       "</style>\n",
       "<table border=\"1\" class=\"dataframe\">\n",
       "  <thead>\n",
       "    <tr style=\"text-align: right;\">\n",
       "      <th></th>\n",
       "      <th>ProductID</th>\n",
       "      <th>Revenue</th>\n",
       "    </tr>\n",
       "  </thead>\n",
       "  <tbody>\n",
       "    <tr>\n",
       "      <th>222</th>\n",
       "      <td>475</td>\n",
       "      <td>90.161</td>\n",
       "    </tr>\n",
       "    <tr>\n",
       "      <th>192</th>\n",
       "      <td>396</td>\n",
       "      <td>74.991</td>\n",
       "    </tr>\n",
       "    <tr>\n",
       "      <th>444</th>\n",
       "      <td>826</td>\n",
       "      <td>53.272</td>\n",
       "    </tr>\n",
       "    <tr>\n",
       "      <th>322</th>\n",
       "      <td>635</td>\n",
       "      <td>46.974</td>\n",
       "    </tr>\n",
       "    <tr>\n",
       "      <th>302</th>\n",
       "      <td>604</td>\n",
       "      <td>46.602</td>\n",
       "    </tr>\n",
       "  </tbody>\n",
       "</table>\n",
       "</div>"
      ],
      "text/plain": [
       "     ProductID  Revenue\n",
       "222        475   90.161\n",
       "192        396   74.991\n",
       "444        826   53.272\n",
       "322        635   46.974\n",
       "302        604   46.602"
      ]
     },
     "execution_count": 29,
     "metadata": {},
     "output_type": "execute_result"
    }
   ],
   "source": [
    "ww_pro = ww_df.groupby(['ProductID'],as_index=False).agg({\"Revenue\":\"sum\"}).sort_values(\"Revenue\",ascending=False)\n",
    "ww_pro.Revenue = round(ww_pro.Revenue / 10**6, 3)\n",
    "ww_pro.head()\n"
   ]
  },
  {
   "attachments": {},
   "cell_type": "markdown",
   "metadata": {},
   "source": [
    "### Q5:List the top 5 best-selling products in Japan"
   ]
  },
  {
   "cell_type": "code",
   "execution_count": 30,
   "metadata": {},
   "outputs": [
    {
     "data": {
      "text/html": [
       "<div>\n",
       "<style scoped>\n",
       "    .dataframe tbody tr th:only-of-type {\n",
       "        vertical-align: middle;\n",
       "    }\n",
       "\n",
       "    .dataframe tbody tr th {\n",
       "        vertical-align: top;\n",
       "    }\n",
       "\n",
       "    .dataframe thead th {\n",
       "        text-align: right;\n",
       "    }\n",
       "</style>\n",
       "<table border=\"1\" class=\"dataframe\">\n",
       "  <thead>\n",
       "    <tr style=\"text-align: right;\">\n",
       "      <th></th>\n",
       "      <th>ProductID</th>\n",
       "      <th>Country</th>\n",
       "      <th>Revenue</th>\n",
       "    </tr>\n",
       "  </thead>\n",
       "  <tbody>\n",
       "    <tr>\n",
       "      <th>1223</th>\n",
       "      <td>475</td>\n",
       "      <td>Japan</td>\n",
       "      <td>8.693</td>\n",
       "    </tr>\n",
       "    <tr>\n",
       "      <th>1043</th>\n",
       "      <td>396</td>\n",
       "      <td>Japan</td>\n",
       "      <td>6.780</td>\n",
       "    </tr>\n",
       "    <tr>\n",
       "      <th>1867</th>\n",
       "      <td>635</td>\n",
       "      <td>Japan</td>\n",
       "      <td>4.815</td>\n",
       "    </tr>\n",
       "    <tr>\n",
       "      <th>1738</th>\n",
       "      <td>604</td>\n",
       "      <td>Japan</td>\n",
       "      <td>4.699</td>\n",
       "    </tr>\n",
       "    <tr>\n",
       "      <th>1764</th>\n",
       "      <td>609</td>\n",
       "      <td>Japan</td>\n",
       "      <td>4.166</td>\n",
       "    </tr>\n",
       "  </tbody>\n",
       "</table>\n",
       "</div>"
      ],
      "text/plain": [
       "      ProductID Country  Revenue\n",
       "1223        475   Japan    8.693\n",
       "1043        396   Japan    6.780\n",
       "1867        635   Japan    4.815\n",
       "1738        604   Japan    4.699\n",
       "1764        609   Japan    4.166"
      ]
     },
     "execution_count": 30,
     "metadata": {},
     "output_type": "execute_result"
    }
   ],
   "source": [
    "ww_pro_jap = ww_df.groupby(['ProductID','Country'],as_index=False).agg({\"Revenue\":\"sum\"}).sort_values(\"Revenue\",ascending=False)\n",
    "ww_pro_jap.Revenue = round(ww_pro_jap.Revenue / 10**6, 3)\n",
    "ww_pro_jap= ww_pro_jap[ww_pro_jap['Country'] == \"Japan\"]\n",
    "\n",
    "ww_pro_jap.head()"
   ]
  },
  {
   "attachments": {},
   "cell_type": "markdown",
   "metadata": {},
   "source": [
    "### Q6:What is the most expensive product?"
   ]
  },
  {
   "cell_type": "code",
   "execution_count": 31,
   "metadata": {},
   "outputs": [
    {
     "data": {
      "text/html": [
       "<div>\n",
       "<style scoped>\n",
       "    .dataframe tbody tr th:only-of-type {\n",
       "        vertical-align: middle;\n",
       "    }\n",
       "\n",
       "    .dataframe tbody tr th {\n",
       "        vertical-align: top;\n",
       "    }\n",
       "\n",
       "    .dataframe thead th {\n",
       "        text-align: right;\n",
       "    }\n",
       "</style>\n",
       "<table border=\"1\" class=\"dataframe\">\n",
       "  <thead>\n",
       "    <tr style=\"text-align: right;\">\n",
       "      <th></th>\n",
       "      <th>ProductID</th>\n",
       "      <th>Date</th>\n",
       "      <th>Zip</th>\n",
       "      <th>Units</th>\n",
       "      <th>Revenue</th>\n",
       "      <th>City</th>\n",
       "      <th>State</th>\n",
       "      <th>Region</th>\n",
       "      <th>District</th>\n",
       "      <th>Country</th>\n",
       "      <th>Product</th>\n",
       "      <th>Category</th>\n",
       "      <th>ManufacturerID</th>\n",
       "      <th>Price USD</th>\n",
       "      <th>Manufacturer</th>\n",
       "      <th>Logo</th>\n",
       "      <th>year</th>\n",
       "      <th>month</th>\n",
       "    </tr>\n",
       "  </thead>\n",
       "  <tbody>\n",
       "    <tr>\n",
       "      <th>0</th>\n",
       "      <td>1076</td>\n",
       "      <td>2012-01-20</td>\n",
       "      <td>72638</td>\n",
       "      <td>1</td>\n",
       "      <td>254.5725</td>\n",
       "      <td>Green Forest, AR, USA</td>\n",
       "      <td>AR</td>\n",
       "      <td>Central</td>\n",
       "      <td>District #21</td>\n",
       "      <td>USA</td>\n",
       "      <td>Pirum RP-22|Productivity</td>\n",
       "      <td>NaN</td>\n",
       "      <td>10</td>\n",
       "      <td>259.825</td>\n",
       "      <td>Pirum</td>\n",
       "      <td>https://raw.githubusercontent.com/CharlesSterl...</td>\n",
       "      <td>2012</td>\n",
       "      <td>1</td>\n",
       "    </tr>\n",
       "    <tr>\n",
       "      <th>1</th>\n",
       "      <td>1076</td>\n",
       "      <td>2012-01-21</td>\n",
       "      <td>47577</td>\n",
       "      <td>1</td>\n",
       "      <td>254.5725</td>\n",
       "      <td>Saint Meinrad, IN, USA</td>\n",
       "      <td>IN</td>\n",
       "      <td>Central</td>\n",
       "      <td>District #25</td>\n",
       "      <td>USA</td>\n",
       "      <td>Pirum RP-22|Productivity</td>\n",
       "      <td>NaN</td>\n",
       "      <td>10</td>\n",
       "      <td>259.825</td>\n",
       "      <td>Pirum</td>\n",
       "      <td>https://raw.githubusercontent.com/CharlesSterl...</td>\n",
       "      <td>2012</td>\n",
       "      <td>1</td>\n",
       "    </tr>\n",
       "    <tr>\n",
       "      <th>2</th>\n",
       "      <td>1076</td>\n",
       "      <td>2012-01-28</td>\n",
       "      <td>34653</td>\n",
       "      <td>1</td>\n",
       "      <td>254.5725</td>\n",
       "      <td>New Port Richey, FL, USA</td>\n",
       "      <td>FL</td>\n",
       "      <td>East</td>\n",
       "      <td>District #10</td>\n",
       "      <td>USA</td>\n",
       "      <td>Pirum RP-22|Productivity</td>\n",
       "      <td>NaN</td>\n",
       "      <td>10</td>\n",
       "      <td>259.825</td>\n",
       "      <td>Pirum</td>\n",
       "      <td>https://raw.githubusercontent.com/CharlesSterl...</td>\n",
       "      <td>2012</td>\n",
       "      <td>1</td>\n",
       "    </tr>\n",
       "    <tr>\n",
       "      <th>3</th>\n",
       "      <td>1076</td>\n",
       "      <td>2012-01-31</td>\n",
       "      <td>84014</td>\n",
       "      <td>1</td>\n",
       "      <td>254.5725</td>\n",
       "      <td>Centerville, UT, USA</td>\n",
       "      <td>UT</td>\n",
       "      <td>West</td>\n",
       "      <td>District #33</td>\n",
       "      <td>USA</td>\n",
       "      <td>Pirum RP-22|Productivity</td>\n",
       "      <td>NaN</td>\n",
       "      <td>10</td>\n",
       "      <td>259.825</td>\n",
       "      <td>Pirum</td>\n",
       "      <td>https://raw.githubusercontent.com/CharlesSterl...</td>\n",
       "      <td>2012</td>\n",
       "      <td>1</td>\n",
       "    </tr>\n",
       "    <tr>\n",
       "      <th>4</th>\n",
       "      <td>1076</td>\n",
       "      <td>2012-02-01</td>\n",
       "      <td>75070</td>\n",
       "      <td>1</td>\n",
       "      <td>254.5725</td>\n",
       "      <td>Mckinney, TX, USA</td>\n",
       "      <td>TX</td>\n",
       "      <td>Central</td>\n",
       "      <td>District #22</td>\n",
       "      <td>USA</td>\n",
       "      <td>Pirum RP-22|Productivity</td>\n",
       "      <td>NaN</td>\n",
       "      <td>10</td>\n",
       "      <td>259.825</td>\n",
       "      <td>Pirum</td>\n",
       "      <td>https://raw.githubusercontent.com/CharlesSterl...</td>\n",
       "      <td>2012</td>\n",
       "      <td>2</td>\n",
       "    </tr>\n",
       "  </tbody>\n",
       "</table>\n",
       "</div>"
      ],
      "text/plain": [
       "   ProductID        Date    Zip  Units   Revenue                      City  \\\n",
       "0       1076  2012-01-20  72638      1  254.5725     Green Forest, AR, USA   \n",
       "1       1076  2012-01-21  47577      1  254.5725    Saint Meinrad, IN, USA   \n",
       "2       1076  2012-01-28  34653      1  254.5725  New Port Richey, FL, USA   \n",
       "3       1076  2012-01-31  84014      1  254.5725      Centerville, UT, USA   \n",
       "4       1076  2012-02-01  75070      1  254.5725         Mckinney, TX, USA   \n",
       "\n",
       "  State   Region      District Country                   Product Category  \\\n",
       "0    AR  Central  District #21     USA  Pirum RP-22|Productivity      NaN   \n",
       "1    IN  Central  District #25     USA  Pirum RP-22|Productivity      NaN   \n",
       "2    FL     East  District #10     USA  Pirum RP-22|Productivity      NaN   \n",
       "3    UT     West  District #33     USA  Pirum RP-22|Productivity      NaN   \n",
       "4    TX  Central  District #22     USA  Pirum RP-22|Productivity      NaN   \n",
       "\n",
       "   ManufacturerID  Price USD Manufacturer  \\\n",
       "0              10    259.825        Pirum   \n",
       "1              10    259.825        Pirum   \n",
       "2              10    259.825        Pirum   \n",
       "3              10    259.825        Pirum   \n",
       "4              10    259.825        Pirum   \n",
       "\n",
       "                                                Logo  year  month  \n",
       "0  https://raw.githubusercontent.com/CharlesSterl...  2012      1  \n",
       "1  https://raw.githubusercontent.com/CharlesSterl...  2012      1  \n",
       "2  https://raw.githubusercontent.com/CharlesSterl...  2012      1  \n",
       "3  https://raw.githubusercontent.com/CharlesSterl...  2012      1  \n",
       "4  https://raw.githubusercontent.com/CharlesSterl...  2012      2  "
      ]
     },
     "execution_count": 31,
     "metadata": {},
     "output_type": "execute_result"
    }
   ],
   "source": [
    "ww_df.head()"
   ]
  },
  {
   "cell_type": "code",
   "execution_count": 32,
   "metadata": {},
   "outputs": [
    {
     "data": {
      "text/html": [
       "<div>\n",
       "<style scoped>\n",
       "    .dataframe tbody tr th:only-of-type {\n",
       "        vertical-align: middle;\n",
       "    }\n",
       "\n",
       "    .dataframe tbody tr th {\n",
       "        vertical-align: top;\n",
       "    }\n",
       "\n",
       "    .dataframe thead th {\n",
       "        text-align: right;\n",
       "    }\n",
       "</style>\n",
       "<table border=\"1\" class=\"dataframe\">\n",
       "  <thead>\n",
       "    <tr style=\"text-align: right;\">\n",
       "      <th></th>\n",
       "      <th>ProductID</th>\n",
       "      <th>Price USD</th>\n",
       "    </tr>\n",
       "  </thead>\n",
       "  <tbody>\n",
       "    <tr>\n",
       "      <th>242</th>\n",
       "      <td>503</td>\n",
       "      <td>1763.738</td>\n",
       "    </tr>\n",
       "  </tbody>\n",
       "</table>\n",
       "</div>"
      ],
      "text/plain": [
       "     ProductID  Price USD\n",
       "242        503   1763.738"
      ]
     },
     "execution_count": 32,
     "metadata": {},
     "output_type": "execute_result"
    }
   ],
   "source": [
    "ww_pro_exp = ww_df.groupby(['ProductID'],as_index=False).agg({\"Price USD\":\"mean\"}).sort_values(\"Price USD\",ascending=False)\n",
    "ww_pro_exp['Price USD'] = round(ww_pro_exp['Price USD'] , 3)\n",
    "\n",
    "ww_pro_exp.head(1)"
   ]
  },
  {
   "attachments": {},
   "cell_type": "markdown",
   "metadata": {},
   "source": [
    "### Q7:What is the biggest [manufacturer] contributor to revenue in the world?"
   ]
  },
  {
   "cell_type": "code",
   "execution_count": 33,
   "metadata": {},
   "outputs": [
    {
     "data": {
      "text/html": [
       "<div>\n",
       "<style scoped>\n",
       "    .dataframe tbody tr th:only-of-type {\n",
       "        vertical-align: middle;\n",
       "    }\n",
       "\n",
       "    .dataframe tbody tr th {\n",
       "        vertical-align: top;\n",
       "    }\n",
       "\n",
       "    .dataframe thead th {\n",
       "        text-align: right;\n",
       "    }\n",
       "</style>\n",
       "<table border=\"1\" class=\"dataframe\">\n",
       "  <thead>\n",
       "    <tr style=\"text-align: right;\">\n",
       "      <th></th>\n",
       "      <th>ManufacturerID</th>\n",
       "      <th>Revenue</th>\n",
       "      <th>Manufacturer</th>\n",
       "    </tr>\n",
       "  </thead>\n",
       "  <tbody>\n",
       "    <tr>\n",
       "      <th>5</th>\n",
       "      <td>7</td>\n",
       "      <td>1281.418</td>\n",
       "      <td>VanArsdel</td>\n",
       "    </tr>\n",
       "  </tbody>\n",
       "</table>\n",
       "</div>"
      ],
      "text/plain": [
       "   ManufacturerID   Revenue Manufacturer\n",
       "5               7  1281.418    VanArsdel"
      ]
     },
     "execution_count": 33,
     "metadata": {},
     "output_type": "execute_result"
    }
   ],
   "source": [
    "ww_big_manu = ww_df.groupby(['ManufacturerID'],as_index=False).agg({\"Revenue\":\"sum\",\"Manufacturer\" : \"first\"}).sort_values(\"Revenue\",ascending=False)\n",
    "ww_big_manu.Revenue = round(ww_big_manu.Revenue / 10**6 , 3)\n",
    "\n",
    "ww_big_manu.head(1)"
   ]
  },
  {
   "attachments": {},
   "cell_type": "markdown",
   "metadata": {},
   "source": [
    "### Q8:List the bottom 3 [manufacturer] contributor to revenue in Nigeria"
   ]
  },
  {
   "cell_type": "code",
   "execution_count": 34,
   "metadata": {},
   "outputs": [
    {
     "data": {
      "text/html": [
       "<div>\n",
       "<style scoped>\n",
       "    .dataframe tbody tr th:only-of-type {\n",
       "        vertical-align: middle;\n",
       "    }\n",
       "\n",
       "    .dataframe tbody tr th {\n",
       "        vertical-align: top;\n",
       "    }\n",
       "\n",
       "    .dataframe thead th {\n",
       "        text-align: right;\n",
       "    }\n",
       "</style>\n",
       "<table border=\"1\" class=\"dataframe\">\n",
       "  <thead>\n",
       "    <tr style=\"text-align: right;\">\n",
       "      <th></th>\n",
       "      <th>ManufacturerID</th>\n",
       "      <th>Country</th>\n",
       "      <th>Revenue</th>\n",
       "      <th>Manufacturer</th>\n",
       "    </tr>\n",
       "  </thead>\n",
       "  <tbody>\n",
       "    <tr>\n",
       "      <th>68</th>\n",
       "      <td>11</td>\n",
       "      <td>Nigeria</td>\n",
       "      <td>0.296</td>\n",
       "      <td>Pomum</td>\n",
       "    </tr>\n",
       "    <tr>\n",
       "      <th>54</th>\n",
       "      <td>9</td>\n",
       "      <td>Nigeria</td>\n",
       "      <td>0.366</td>\n",
       "      <td>Palma</td>\n",
       "    </tr>\n",
       "    <tr>\n",
       "      <th>82</th>\n",
       "      <td>14</td>\n",
       "      <td>Nigeria</td>\n",
       "      <td>0.481</td>\n",
       "      <td>Victoria</td>\n",
       "    </tr>\n",
       "  </tbody>\n",
       "</table>\n",
       "</div>"
      ],
      "text/plain": [
       "    ManufacturerID  Country  Revenue Manufacturer\n",
       "68              11  Nigeria    0.296        Pomum\n",
       "54               9  Nigeria    0.366        Palma\n",
       "82              14  Nigeria    0.481     Victoria"
      ]
     },
     "execution_count": 34,
     "metadata": {},
     "output_type": "execute_result"
    }
   ],
   "source": [
    "ww_manu_nig = ww_df.groupby(['ManufacturerID','Country'],as_index=False).agg({\"Revenue\":\"sum\",\"Manufacturer\" : \"first\"}).sort_values(\"Revenue\",ascending=True)\n",
    "ww_manu_nig.Revenue = round(ww_manu_nig.Revenue / 10**6 , 3)\n",
    "ww_manu_nig= ww_manu_nig[ww_manu_nig['Country'] == \"Nigeria\"]\n",
    "\n",
    "ww_manu_nig.head(3)"
   ]
  },
  {
   "attachments": {},
   "cell_type": "markdown",
   "metadata": {},
   "source": []
  },
  {
   "attachments": {},
   "cell_type": "markdown",
   "metadata": {},
   "source": [
    "### Q9:Provide the list of products with no revenue in 2017"
   ]
  },
  {
   "cell_type": "code",
   "execution_count": 35,
   "metadata": {},
   "outputs": [
    {
     "data": {
      "text/html": [
       "<div>\n",
       "<style scoped>\n",
       "    .dataframe tbody tr th:only-of-type {\n",
       "        vertical-align: middle;\n",
       "    }\n",
       "\n",
       "    .dataframe tbody tr th {\n",
       "        vertical-align: top;\n",
       "    }\n",
       "\n",
       "    .dataframe thead th {\n",
       "        text-align: right;\n",
       "    }\n",
       "</style>\n",
       "<table border=\"1\" class=\"dataframe\">\n",
       "  <thead>\n",
       "    <tr style=\"text-align: right;\">\n",
       "      <th></th>\n",
       "      <th>ProductID</th>\n",
       "      <th>Product</th>\n",
       "      <th>Revenue</th>\n",
       "    </tr>\n",
       "  </thead>\n",
       "  <tbody>\n",
       "    <tr>\n",
       "      <th>0</th>\n",
       "      <td>1</td>\n",
       "      <td>Abbas MA-01|All Season</td>\n",
       "      <td>NaN</td>\n",
       "    </tr>\n",
       "    <tr>\n",
       "      <th>1</th>\n",
       "      <td>2</td>\n",
       "      <td>Abbas MA-02|All Season</td>\n",
       "      <td>NaN</td>\n",
       "    </tr>\n",
       "    <tr>\n",
       "      <th>2</th>\n",
       "      <td>3</td>\n",
       "      <td>Abbas MA-03|All Season</td>\n",
       "      <td>NaN</td>\n",
       "    </tr>\n",
       "    <tr>\n",
       "      <th>4</th>\n",
       "      <td>5</td>\n",
       "      <td>Abbas MA-05|All Season</td>\n",
       "      <td>NaN</td>\n",
       "    </tr>\n",
       "    <tr>\n",
       "      <th>5</th>\n",
       "      <td>7</td>\n",
       "      <td>Abbas MA-07|All Season</td>\n",
       "      <td>NaN</td>\n",
       "    </tr>\n",
       "    <tr>\n",
       "      <th>...</th>\n",
       "      <td>...</td>\n",
       "      <td>...</td>\n",
       "      <td>...</td>\n",
       "    </tr>\n",
       "    <tr>\n",
       "      <th>2402</th>\n",
       "      <td>2403</td>\n",
       "      <td>Aliqui YY-12|Youth</td>\n",
       "      <td>NaN</td>\n",
       "    </tr>\n",
       "    <tr>\n",
       "      <th>2404</th>\n",
       "      <td>2405</td>\n",
       "      <td>Aliqui YY-14|Youth</td>\n",
       "      <td>NaN</td>\n",
       "    </tr>\n",
       "    <tr>\n",
       "      <th>2407</th>\n",
       "      <td>2408</td>\n",
       "      <td>Aliqui YY-17|Youth</td>\n",
       "      <td>NaN</td>\n",
       "    </tr>\n",
       "    <tr>\n",
       "      <th>2408</th>\n",
       "      <td>2409</td>\n",
       "      <td>Aliqui YY-18|Youth</td>\n",
       "      <td>NaN</td>\n",
       "    </tr>\n",
       "    <tr>\n",
       "      <th>2410</th>\n",
       "      <td>2411</td>\n",
       "      <td>Aliqui YY-20|Youth</td>\n",
       "      <td>NaN</td>\n",
       "    </tr>\n",
       "  </tbody>\n",
       "</table>\n",
       "<p>1560 rows × 3 columns</p>\n",
       "</div>"
      ],
      "text/plain": [
       "      ProductID                 Product  Revenue\n",
       "0             1  Abbas MA-01|All Season      NaN\n",
       "1             2  Abbas MA-02|All Season      NaN\n",
       "2             3  Abbas MA-03|All Season      NaN\n",
       "4             5  Abbas MA-05|All Season      NaN\n",
       "5             7  Abbas MA-07|All Season      NaN\n",
       "...         ...                     ...      ...\n",
       "2402       2403      Aliqui YY-12|Youth      NaN\n",
       "2404       2405      Aliqui YY-14|Youth      NaN\n",
       "2407       2408      Aliqui YY-17|Youth      NaN\n",
       "2408       2409      Aliqui YY-18|Youth      NaN\n",
       "2410       2411      Aliqui YY-20|Youth      NaN\n",
       "\n",
       "[1560 rows x 3 columns]"
      ]
     },
     "execution_count": 35,
     "metadata": {},
     "output_type": "execute_result"
    }
   ],
   "source": [
    "no_rev_17 = ww_df.groupby(['ProductID','year'],as_index=False).agg({\"Revenue\":\"sum\"})\n",
    "no_rev_17 = no_rev_17[no_rev_17['year'] == 2017]\n",
    "no_rev_17 = no_rev_17.merge(product_df,how='right',on='ProductID')\n",
    "no_rev_17 = no_rev_17[no_rev_17['Revenue'].isnull()]\n",
    "no_rev_17[['ProductID','Product','Revenue']]"
   ]
  },
  {
   "attachments": {},
   "cell_type": "markdown",
   "metadata": {},
   "source": [
    "### Q10:Provide the list of products with no revenue in 2017 & 2018"
   ]
  },
  {
   "cell_type": "code",
   "execution_count": 36,
   "metadata": {},
   "outputs": [
    {
     "data": {
      "text/html": [
       "<div>\n",
       "<style scoped>\n",
       "    .dataframe tbody tr th:only-of-type {\n",
       "        vertical-align: middle;\n",
       "    }\n",
       "\n",
       "    .dataframe tbody tr th {\n",
       "        vertical-align: top;\n",
       "    }\n",
       "\n",
       "    .dataframe thead th {\n",
       "        text-align: right;\n",
       "    }\n",
       "</style>\n",
       "<table border=\"1\" class=\"dataframe\">\n",
       "  <thead>\n",
       "    <tr style=\"text-align: right;\">\n",
       "      <th></th>\n",
       "      <th>ProductID</th>\n",
       "      <th>Product</th>\n",
       "      <th>Revenue</th>\n",
       "    </tr>\n",
       "  </thead>\n",
       "  <tbody>\n",
       "    <tr>\n",
       "      <th>0</th>\n",
       "      <td>1</td>\n",
       "      <td>Abbas MA-01|All Season</td>\n",
       "      <td>NaN</td>\n",
       "    </tr>\n",
       "    <tr>\n",
       "      <th>1</th>\n",
       "      <td>2</td>\n",
       "      <td>Abbas MA-02|All Season</td>\n",
       "      <td>NaN</td>\n",
       "    </tr>\n",
       "    <tr>\n",
       "      <th>5</th>\n",
       "      <td>5</td>\n",
       "      <td>Abbas MA-05|All Season</td>\n",
       "      <td>NaN</td>\n",
       "    </tr>\n",
       "    <tr>\n",
       "      <th>6</th>\n",
       "      <td>7</td>\n",
       "      <td>Abbas MA-07|All Season</td>\n",
       "      <td>NaN</td>\n",
       "    </tr>\n",
       "    <tr>\n",
       "      <th>7</th>\n",
       "      <td>6</td>\n",
       "      <td>Abbas MA-06|All Season</td>\n",
       "      <td>NaN</td>\n",
       "    </tr>\n",
       "    <tr>\n",
       "      <th>...</th>\n",
       "      <td>...</td>\n",
       "      <td>...</td>\n",
       "      <td>...</td>\n",
       "    </tr>\n",
       "    <tr>\n",
       "      <th>3157</th>\n",
       "      <td>2403</td>\n",
       "      <td>Aliqui YY-12|Youth</td>\n",
       "      <td>NaN</td>\n",
       "    </tr>\n",
       "    <tr>\n",
       "      <th>3160</th>\n",
       "      <td>2405</td>\n",
       "      <td>Aliqui YY-14|Youth</td>\n",
       "      <td>NaN</td>\n",
       "    </tr>\n",
       "    <tr>\n",
       "      <th>3165</th>\n",
       "      <td>2408</td>\n",
       "      <td>Aliqui YY-17|Youth</td>\n",
       "      <td>NaN</td>\n",
       "    </tr>\n",
       "    <tr>\n",
       "      <th>3166</th>\n",
       "      <td>2409</td>\n",
       "      <td>Aliqui YY-18|Youth</td>\n",
       "      <td>NaN</td>\n",
       "    </tr>\n",
       "    <tr>\n",
       "      <th>3169</th>\n",
       "      <td>2411</td>\n",
       "      <td>Aliqui YY-20|Youth</td>\n",
       "      <td>NaN</td>\n",
       "    </tr>\n",
       "  </tbody>\n",
       "</table>\n",
       "<p>1439 rows × 3 columns</p>\n",
       "</div>"
      ],
      "text/plain": [
       "      ProductID                 Product  Revenue\n",
       "0             1  Abbas MA-01|All Season      NaN\n",
       "1             2  Abbas MA-02|All Season      NaN\n",
       "5             5  Abbas MA-05|All Season      NaN\n",
       "6             7  Abbas MA-07|All Season      NaN\n",
       "7             6  Abbas MA-06|All Season      NaN\n",
       "...         ...                     ...      ...\n",
       "3157       2403      Aliqui YY-12|Youth      NaN\n",
       "3160       2405      Aliqui YY-14|Youth      NaN\n",
       "3165       2408      Aliqui YY-17|Youth      NaN\n",
       "3166       2409      Aliqui YY-18|Youth      NaN\n",
       "3169       2411      Aliqui YY-20|Youth      NaN\n",
       "\n",
       "[1439 rows x 3 columns]"
      ]
     },
     "execution_count": 36,
     "metadata": {},
     "output_type": "execute_result"
    }
   ],
   "source": [
    "no_rev_1718 = ww_df.groupby(['ProductID','year'],as_index=False).agg({\"Revenue\":\"sum\"})\n",
    "no_rev_1718 = no_rev_1718[(no_rev_1718['year'] == 2017) | (no_rev_1718['year'] == 2018)]\n",
    "no_rev_1718 = no_rev_1718.merge(product_df,how='right',on='ProductID')\n",
    "no_rev_1718 = no_rev_1718[no_rev_1718['Revenue'].isnull()]\n",
    "no_rev_1718[['ProductID','Product','Revenue']]"
   ]
  },
  {
   "attachments": {},
   "cell_type": "markdown",
   "metadata": {},
   "source": [
    "### Q11:Provide a list of the top 3 products with the most important growth (in value) between 2016 to 2017"
   ]
  },
  {
   "cell_type": "code",
   "execution_count": 37,
   "metadata": {},
   "outputs": [
    {
     "data": {
      "text/html": [
       "<div>\n",
       "<style scoped>\n",
       "    .dataframe tbody tr th:only-of-type {\n",
       "        vertical-align: middle;\n",
       "    }\n",
       "\n",
       "    .dataframe tbody tr th {\n",
       "        vertical-align: top;\n",
       "    }\n",
       "\n",
       "    .dataframe thead th {\n",
       "        text-align: right;\n",
       "    }\n",
       "</style>\n",
       "<table border=\"1\" class=\"dataframe\">\n",
       "  <thead>\n",
       "    <tr style=\"text-align: right;\">\n",
       "      <th></th>\n",
       "      <th>ProductID</th>\n",
       "      <th>Date</th>\n",
       "      <th>Zip</th>\n",
       "      <th>Units</th>\n",
       "      <th>Revenue</th>\n",
       "      <th>City</th>\n",
       "      <th>State</th>\n",
       "      <th>Region</th>\n",
       "      <th>District</th>\n",
       "      <th>Country</th>\n",
       "      <th>Product</th>\n",
       "      <th>Category</th>\n",
       "      <th>ManufacturerID</th>\n",
       "      <th>Price USD</th>\n",
       "      <th>Manufacturer</th>\n",
       "      <th>Logo</th>\n",
       "      <th>year</th>\n",
       "      <th>month</th>\n",
       "    </tr>\n",
       "  </thead>\n",
       "  <tbody>\n",
       "    <tr>\n",
       "      <th>0</th>\n",
       "      <td>1076</td>\n",
       "      <td>2012-01-20</td>\n",
       "      <td>72638</td>\n",
       "      <td>1</td>\n",
       "      <td>254.5725</td>\n",
       "      <td>Green Forest, AR, USA</td>\n",
       "      <td>AR</td>\n",
       "      <td>Central</td>\n",
       "      <td>District #21</td>\n",
       "      <td>USA</td>\n",
       "      <td>Pirum RP-22|Productivity</td>\n",
       "      <td>NaN</td>\n",
       "      <td>10</td>\n",
       "      <td>259.825</td>\n",
       "      <td>Pirum</td>\n",
       "      <td>https://raw.githubusercontent.com/CharlesSterl...</td>\n",
       "      <td>2012</td>\n",
       "      <td>1</td>\n",
       "    </tr>\n",
       "    <tr>\n",
       "      <th>1</th>\n",
       "      <td>1076</td>\n",
       "      <td>2012-01-21</td>\n",
       "      <td>47577</td>\n",
       "      <td>1</td>\n",
       "      <td>254.5725</td>\n",
       "      <td>Saint Meinrad, IN, USA</td>\n",
       "      <td>IN</td>\n",
       "      <td>Central</td>\n",
       "      <td>District #25</td>\n",
       "      <td>USA</td>\n",
       "      <td>Pirum RP-22|Productivity</td>\n",
       "      <td>NaN</td>\n",
       "      <td>10</td>\n",
       "      <td>259.825</td>\n",
       "      <td>Pirum</td>\n",
       "      <td>https://raw.githubusercontent.com/CharlesSterl...</td>\n",
       "      <td>2012</td>\n",
       "      <td>1</td>\n",
       "    </tr>\n",
       "    <tr>\n",
       "      <th>2</th>\n",
       "      <td>1076</td>\n",
       "      <td>2012-01-28</td>\n",
       "      <td>34653</td>\n",
       "      <td>1</td>\n",
       "      <td>254.5725</td>\n",
       "      <td>New Port Richey, FL, USA</td>\n",
       "      <td>FL</td>\n",
       "      <td>East</td>\n",
       "      <td>District #10</td>\n",
       "      <td>USA</td>\n",
       "      <td>Pirum RP-22|Productivity</td>\n",
       "      <td>NaN</td>\n",
       "      <td>10</td>\n",
       "      <td>259.825</td>\n",
       "      <td>Pirum</td>\n",
       "      <td>https://raw.githubusercontent.com/CharlesSterl...</td>\n",
       "      <td>2012</td>\n",
       "      <td>1</td>\n",
       "    </tr>\n",
       "    <tr>\n",
       "      <th>3</th>\n",
       "      <td>1076</td>\n",
       "      <td>2012-01-31</td>\n",
       "      <td>84014</td>\n",
       "      <td>1</td>\n",
       "      <td>254.5725</td>\n",
       "      <td>Centerville, UT, USA</td>\n",
       "      <td>UT</td>\n",
       "      <td>West</td>\n",
       "      <td>District #33</td>\n",
       "      <td>USA</td>\n",
       "      <td>Pirum RP-22|Productivity</td>\n",
       "      <td>NaN</td>\n",
       "      <td>10</td>\n",
       "      <td>259.825</td>\n",
       "      <td>Pirum</td>\n",
       "      <td>https://raw.githubusercontent.com/CharlesSterl...</td>\n",
       "      <td>2012</td>\n",
       "      <td>1</td>\n",
       "    </tr>\n",
       "    <tr>\n",
       "      <th>4</th>\n",
       "      <td>1076</td>\n",
       "      <td>2012-02-01</td>\n",
       "      <td>75070</td>\n",
       "      <td>1</td>\n",
       "      <td>254.5725</td>\n",
       "      <td>Mckinney, TX, USA</td>\n",
       "      <td>TX</td>\n",
       "      <td>Central</td>\n",
       "      <td>District #22</td>\n",
       "      <td>USA</td>\n",
       "      <td>Pirum RP-22|Productivity</td>\n",
       "      <td>NaN</td>\n",
       "      <td>10</td>\n",
       "      <td>259.825</td>\n",
       "      <td>Pirum</td>\n",
       "      <td>https://raw.githubusercontent.com/CharlesSterl...</td>\n",
       "      <td>2012</td>\n",
       "      <td>2</td>\n",
       "    </tr>\n",
       "  </tbody>\n",
       "</table>\n",
       "</div>"
      ],
      "text/plain": [
       "   ProductID        Date    Zip  Units   Revenue                      City  \\\n",
       "0       1076  2012-01-20  72638      1  254.5725     Green Forest, AR, USA   \n",
       "1       1076  2012-01-21  47577      1  254.5725    Saint Meinrad, IN, USA   \n",
       "2       1076  2012-01-28  34653      1  254.5725  New Port Richey, FL, USA   \n",
       "3       1076  2012-01-31  84014      1  254.5725      Centerville, UT, USA   \n",
       "4       1076  2012-02-01  75070      1  254.5725         Mckinney, TX, USA   \n",
       "\n",
       "  State   Region      District Country                   Product Category  \\\n",
       "0    AR  Central  District #21     USA  Pirum RP-22|Productivity      NaN   \n",
       "1    IN  Central  District #25     USA  Pirum RP-22|Productivity      NaN   \n",
       "2    FL     East  District #10     USA  Pirum RP-22|Productivity      NaN   \n",
       "3    UT     West  District #33     USA  Pirum RP-22|Productivity      NaN   \n",
       "4    TX  Central  District #22     USA  Pirum RP-22|Productivity      NaN   \n",
       "\n",
       "   ManufacturerID  Price USD Manufacturer  \\\n",
       "0              10    259.825        Pirum   \n",
       "1              10    259.825        Pirum   \n",
       "2              10    259.825        Pirum   \n",
       "3              10    259.825        Pirum   \n",
       "4              10    259.825        Pirum   \n",
       "\n",
       "                                                Logo  year  month  \n",
       "0  https://raw.githubusercontent.com/CharlesSterl...  2012      1  \n",
       "1  https://raw.githubusercontent.com/CharlesSterl...  2012      1  \n",
       "2  https://raw.githubusercontent.com/CharlesSterl...  2012      1  \n",
       "3  https://raw.githubusercontent.com/CharlesSterl...  2012      1  \n",
       "4  https://raw.githubusercontent.com/CharlesSterl...  2012      2  "
      ]
     },
     "execution_count": 37,
     "metadata": {},
     "output_type": "execute_result"
    }
   ],
   "source": [
    "ww_df.head()"
   ]
  },
  {
   "cell_type": "code",
   "execution_count": 38,
   "metadata": {},
   "outputs": [
    {
     "data": {
      "text/html": [
       "<div>\n",
       "<style scoped>\n",
       "    .dataframe tbody tr th:only-of-type {\n",
       "        vertical-align: middle;\n",
       "    }\n",
       "\n",
       "    .dataframe tbody tr th {\n",
       "        vertical-align: top;\n",
       "    }\n",
       "\n",
       "    .dataframe thead th {\n",
       "        text-align: right;\n",
       "    }\n",
       "</style>\n",
       "<table border=\"1\" class=\"dataframe\">\n",
       "  <thead>\n",
       "    <tr style=\"text-align: right;\">\n",
       "      <th></th>\n",
       "      <th>ProductID</th>\n",
       "      <th>year</th>\n",
       "      <th>Revenue</th>\n",
       "      <th>Product</th>\n",
       "      <th>Revenue_shift</th>\n",
       "      <th>rgr</th>\n",
       "    </tr>\n",
       "  </thead>\n",
       "  <tbody>\n",
       "    <tr>\n",
       "      <th>852</th>\n",
       "      <td>487</td>\n",
       "      <td>2018</td>\n",
       "      <td>1.052966e+07</td>\n",
       "      <td>Maximus UM-92|Moderation</td>\n",
       "      <td>1711.50</td>\n",
       "      <td>105279.49%</td>\n",
       "    </tr>\n",
       "    <tr>\n",
       "      <th>743</th>\n",
       "      <td>438</td>\n",
       "      <td>2018</td>\n",
       "      <td>7.893076e+06</td>\n",
       "      <td>Maximus UM-43|Moderation</td>\n",
       "      <td>636867.89</td>\n",
       "      <td>72562.08%</td>\n",
       "    </tr>\n",
       "    <tr>\n",
       "      <th>687</th>\n",
       "      <td>409</td>\n",
       "      <td>2018</td>\n",
       "      <td>1.185889e+07</td>\n",
       "      <td>Maximus UM-14|Moderation</td>\n",
       "      <td>4795645.08</td>\n",
       "      <td>70632.41%</td>\n",
       "    </tr>\n",
       "  </tbody>\n",
       "</table>\n",
       "</div>"
      ],
      "text/plain": [
       "     ProductID  year       Revenue                   Product  Revenue_shift  \\\n",
       "852        487  2018  1.052966e+07  Maximus UM-92|Moderation        1711.50   \n",
       "743        438  2018  7.893076e+06  Maximus UM-43|Moderation      636867.89   \n",
       "687        409  2018  1.185889e+07  Maximus UM-14|Moderation     4795645.08   \n",
       "\n",
       "            rgr  \n",
       "852  105279.49%  \n",
       "743   72562.08%  \n",
       "687   70632.41%  "
      ]
     },
     "execution_count": 38,
     "metadata": {},
     "output_type": "execute_result"
    }
   ],
   "source": [
    "pro_17 = ww_df.groupby(['ProductID','year'],as_index = False).agg({\"Revenue\":\"sum\", \"Product\":'first'})\n",
    "\n",
    "pro_17['Revenue_shift'] = pro_17.groupby('ProductID')['Revenue'].shift(1)\n",
    "pro_17['rgr']=(pro_17['Revenue'] - pro_17['Revenue_shift'])/10**4\n",
    "\n",
    "pro_17 = pro_17.sort_values('rgr',ascending= False)\n",
    "pro_17['rgr']=pro_17['rgr'].apply(lambda x: format(x, '.2%'))\n",
    " \n",
    "pro_17.head(3)"
   ]
  },
  {
   "attachments": {},
   "cell_type": "markdown",
   "metadata": {},
   "source": [
    "### Q12:Is Blue Corporate a seasonal business? (Y/N)；If yes: decompose this time series between seasonality & trend?"
   ]
  },
  {
   "attachments": {},
   "cell_type": "markdown",
   "metadata": {},
   "source": [
    "#### 1.visualize the time series\n"
   ]
  },
  {
   "cell_type": "code",
   "execution_count": 39,
   "metadata": {},
   "outputs": [
    {
     "data": {
      "text/html": [
       "<div>\n",
       "<style scoped>\n",
       "    .dataframe tbody tr th:only-of-type {\n",
       "        vertical-align: middle;\n",
       "    }\n",
       "\n",
       "    .dataframe tbody tr th {\n",
       "        vertical-align: top;\n",
       "    }\n",
       "\n",
       "    .dataframe thead th {\n",
       "        text-align: right;\n",
       "    }\n",
       "</style>\n",
       "<table border=\"1\" class=\"dataframe\">\n",
       "  <thead>\n",
       "    <tr style=\"text-align: right;\">\n",
       "      <th></th>\n",
       "      <th>year</th>\n",
       "      <th>month</th>\n",
       "      <th>Revenue</th>\n",
       "      <th>year_month</th>\n",
       "    </tr>\n",
       "  </thead>\n",
       "  <tbody>\n",
       "    <tr>\n",
       "      <th>0</th>\n",
       "      <td>2011</td>\n",
       "      <td>1</td>\n",
       "      <td>1.311276e+07</td>\n",
       "      <td>1-2011</td>\n",
       "    </tr>\n",
       "    <tr>\n",
       "      <th>1</th>\n",
       "      <td>2011</td>\n",
       "      <td>2</td>\n",
       "      <td>1.414640e+07</td>\n",
       "      <td>2-2011</td>\n",
       "    </tr>\n",
       "    <tr>\n",
       "      <th>2</th>\n",
       "      <td>2011</td>\n",
       "      <td>3</td>\n",
       "      <td>1.943559e+07</td>\n",
       "      <td>3-2011</td>\n",
       "    </tr>\n",
       "    <tr>\n",
       "      <th>3</th>\n",
       "      <td>2011</td>\n",
       "      <td>4</td>\n",
       "      <td>1.988375e+07</td>\n",
       "      <td>4-2011</td>\n",
       "    </tr>\n",
       "    <tr>\n",
       "      <th>4</th>\n",
       "      <td>2011</td>\n",
       "      <td>5</td>\n",
       "      <td>2.015532e+07</td>\n",
       "      <td>5-2011</td>\n",
       "    </tr>\n",
       "    <tr>\n",
       "      <th>...</th>\n",
       "      <td>...</td>\n",
       "      <td>...</td>\n",
       "      <td>...</td>\n",
       "      <td>...</td>\n",
       "    </tr>\n",
       "    <tr>\n",
       "      <th>91</th>\n",
       "      <td>2018</td>\n",
       "      <td>8</td>\n",
       "      <td>4.143283e+07</td>\n",
       "      <td>8-2018</td>\n",
       "    </tr>\n",
       "    <tr>\n",
       "      <th>92</th>\n",
       "      <td>2018</td>\n",
       "      <td>9</td>\n",
       "      <td>4.268694e+07</td>\n",
       "      <td>9-2018</td>\n",
       "    </tr>\n",
       "    <tr>\n",
       "      <th>93</th>\n",
       "      <td>2018</td>\n",
       "      <td>10</td>\n",
       "      <td>4.032521e+07</td>\n",
       "      <td>10-2018</td>\n",
       "    </tr>\n",
       "    <tr>\n",
       "      <th>94</th>\n",
       "      <td>2018</td>\n",
       "      <td>11</td>\n",
       "      <td>3.737061e+07</td>\n",
       "      <td>11-2018</td>\n",
       "    </tr>\n",
       "    <tr>\n",
       "      <th>95</th>\n",
       "      <td>2018</td>\n",
       "      <td>12</td>\n",
       "      <td>3.772960e+07</td>\n",
       "      <td>12-2018</td>\n",
       "    </tr>\n",
       "  </tbody>\n",
       "</table>\n",
       "<p>96 rows × 4 columns</p>\n",
       "</div>"
      ],
      "text/plain": [
       "    year  month       Revenue year_month\n",
       "0   2011      1  1.311276e+07     1-2011\n",
       "1   2011      2  1.414640e+07     2-2011\n",
       "2   2011      3  1.943559e+07     3-2011\n",
       "3   2011      4  1.988375e+07     4-2011\n",
       "4   2011      5  2.015532e+07     5-2011\n",
       "..   ...    ...           ...        ...\n",
       "91  2018      8  4.143283e+07     8-2018\n",
       "92  2018      9  4.268694e+07     9-2018\n",
       "93  2018     10  4.032521e+07    10-2018\n",
       "94  2018     11  3.737061e+07    11-2018\n",
       "95  2018     12  3.772960e+07    12-2018\n",
       "\n",
       "[96 rows x 4 columns]"
      ]
     },
     "execution_count": 39,
     "metadata": {},
     "output_type": "execute_result"
    }
   ],
   "source": [
    "time_se = ww_df.groupby(['year','month'],as_index=False).agg({\"Revenue\":\"sum\"})\n",
    "time_se['year_month'] = time_se['month'].map(str) + '-' + time_se['year'].map(str)\n",
    "time_se"
   ]
  },
  {
   "cell_type": "code",
   "execution_count": 40,
   "metadata": {},
   "outputs": [
    {
     "data": {
      "text/plain": [
       "[<matplotlib.lines.Line2D at 0x7f80e12158e0>]"
      ]
     },
     "execution_count": 40,
     "metadata": {},
     "output_type": "execute_result"
    },
    {
     "data": {
      "image/png": "[encoded data removed]",
      "text/plain": [
       "<Figure size 432x288 with 1 Axes>"
      ]
     },
     "metadata": {
      "needs_background": "light"
     },
     "output_type": "display_data"
    }
   ],
   "source": [
    "plt.plot(time_se['year_month'],time_se['Revenue'])"
   ]
  },
  {
   "attachments": {},
   "cell_type": "markdown",
   "metadata": {},
   "source": [
    "#### 2.stationarize the series"
   ]
  },
  {
   "cell_type": "code",
   "execution_count": 41,
   "metadata": {},
   "outputs": [
    {
     "data": {
      "text/plain": [
       "259124.6212368421"
      ]
     },
     "execution_count": 41,
     "metadata": {},
     "output_type": "execute_result"
    }
   ],
   "source": [
    "time_se[\"rev_shift\"]=time_se['Revenue'].shift(1)\n",
    "time_se['growth']=time_se['Revenue']-time_se['rev_shift']\n",
    "a = time_se['growth'].mean()\n",
    "a\n"
   ]
  },
  {
   "cell_type": "code",
   "execution_count": 42,
   "metadata": {},
   "outputs": [
    {
     "data": {
      "text/plain": [
       "array([ 0,  1,  2,  3,  4,  5,  6,  7,  8,  9, 10, 11, 12, 13, 14, 15, 16,\n",
       "       17, 18, 19, 20, 21, 22, 23, 24, 25, 26, 27, 28, 29, 30, 31, 32, 33,\n",
       "       34, 35, 36, 37, 38, 39, 40, 41, 42, 43, 44, 45, 46, 47, 48, 49, 50,\n",
       "       51, 52, 53, 54, 55, 56, 57, 58, 59, 60, 61, 62, 63, 64, 65, 66, 67,\n",
       "       68, 69, 70, 71, 72, 73, 74, 75, 76, 77, 78, 79, 80, 81, 82, 83, 84,\n",
       "       85, 86, 87, 88, 89, 90, 91, 92, 93, 94, 95, 96, 97, 98, 99])"
      ]
     },
     "execution_count": 42,
     "metadata": {},
     "output_type": "execute_result"
    }
   ],
   "source": [
    "x = np.arange(0,100,1)\n",
    "x"
   ]
  },
  {
   "cell_type": "code",
   "execution_count": 43,
   "metadata": {},
   "outputs": [
    {
     "data": {
      "text/plain": [
       "array([13112759.5025    , 13371884.12373684, 13631008.74497368,\n",
       "       13890133.36621053, 14149257.98744737, 14408382.60868421,\n",
       "       14667507.22992105, 14926631.85115789, 15185756.47239474,\n",
       "       15444881.09363158, 15704005.71486842, 15963130.33610526,\n",
       "       16222254.9573421 , 16481379.57857895, 16740504.19981579,\n",
       "       16999628.82105263, 17258753.44228947, 17517878.06352631,\n",
       "       17777002.68476316, 18036127.306     , 18295251.92723684,\n",
       "       18554376.54847368, 18813501.16971052, 19072625.79094737,\n",
       "       19331750.41218421, 19590875.03342105, 19849999.65465789,\n",
       "       20109124.27589474, 20368248.89713158, 20627373.51836842,\n",
       "       20886498.13960526, 21145622.7608421 , 21404747.38207895,\n",
       "       21663872.00331579, 21922996.62455263, 22182121.24578947,\n",
       "       22441245.86702631, 22700370.48826316, 22959495.1095    ,\n",
       "       23218619.73073684, 23477744.35197368, 23736868.97321052,\n",
       "       23995993.59444737, 24255118.21568421, 24514242.83692105,\n",
       "       24773367.45815789, 25032492.07939474, 25291616.70063158,\n",
       "       25550741.32186842, 25809865.94310526, 26068990.5643421 ,\n",
       "       26328115.18557895, 26587239.80681579, 26846364.42805263,\n",
       "       27105489.04928947, 27364613.67052631, 27623738.29176316,\n",
       "       27882862.913     , 28141987.53423684, 28401112.15547368,\n",
       "       28660236.77671053, 28919361.39794737, 29178486.01918421,\n",
       "       29437610.64042105, 29696735.26165789, 29955859.88289473,\n",
       "       30214984.50413158, 30474109.12536842, 30733233.74660526,\n",
       "       30992358.3678421 , 31251482.98907895, 31510607.61031578,\n",
       "       31769732.23155263, 32028856.85278947, 32287981.47402631,\n",
       "       32547106.09526315, 32806230.7165    , 33065355.33773684,\n",
       "       33324479.95897368, 33583604.58021052, 33842729.20144737,\n",
       "       34101853.82268421, 34360978.44392105, 34620103.06515789,\n",
       "       34879227.68639474, 35138352.30763157, 35397476.92886842,\n",
       "       35656601.55010526, 35915726.1713421 , 36174850.79257894,\n",
       "       36433975.41381579, 36693100.03505263, 36952224.65628947,\n",
       "       37211349.27752631, 37470473.89876316, 37729598.52      ,\n",
       "       37988723.14123684, 38247847.76247368, 38506972.38371053,\n",
       "       38766097.00494736])"
      ]
     },
     "execution_count": 43,
     "metadata": {},
     "output_type": "execute_result"
    }
   ],
   "source": [
    "y = a*x + time_se.iloc[0]['Revenue']\n",
    "y"
   ]
  },
  {
   "cell_type": "code",
   "execution_count": 44,
   "metadata": {},
   "outputs": [
    {
     "data": {
      "text/plain": [
       "[<matplotlib.lines.Line2D at 0x7f80e4f2a3d0>]"
      ]
     },
     "execution_count": 44,
     "metadata": {},
     "output_type": "execute_result"
    },
    {
     "data": {
      "image/png": "[encoded data removed]",
      "text/plain": [
       "<Figure size 432x288 with 1 Axes>"
      ]
     },
     "metadata": {
      "needs_background": "light"
     },
     "output_type": "display_data"
    }
   ],
   "source": [
    "plt.plot(time_se['year_month'],time_se['Revenue'])\n",
    "plt.plot(x,y)"
   ]
  },
  {
   "cell_type": "code",
   "execution_count": 45,
   "metadata": {},
   "outputs": [],
   "source": [
    "time_se['diff']=time_se['Revenue']-(a*time_se.index +time_se.iloc[0]['Revenue'])\n"
   ]
  },
  {
   "cell_type": "code",
   "execution_count": 46,
   "metadata": {},
   "outputs": [
    {
     "data": {
      "text/html": [
       "<div>\n",
       "<style scoped>\n",
       "    .dataframe tbody tr th:only-of-type {\n",
       "        vertical-align: middle;\n",
       "    }\n",
       "\n",
       "    .dataframe tbody tr th {\n",
       "        vertical-align: top;\n",
       "    }\n",
       "\n",
       "    .dataframe thead th {\n",
       "        text-align: right;\n",
       "    }\n",
       "</style>\n",
       "<table border=\"1\" class=\"dataframe\">\n",
       "  <thead>\n",
       "    <tr style=\"text-align: right;\">\n",
       "      <th></th>\n",
       "      <th>month</th>\n",
       "      <th>diff</th>\n",
       "    </tr>\n",
       "  </thead>\n",
       "  <tbody>\n",
       "    <tr>\n",
       "      <th>0</th>\n",
       "      <td>1</td>\n",
       "      <td>-1.464750e+06</td>\n",
       "    </tr>\n",
       "    <tr>\n",
       "      <th>1</th>\n",
       "      <td>2</td>\n",
       "      <td>1.734183e+05</td>\n",
       "    </tr>\n",
       "    <tr>\n",
       "      <th>2</th>\n",
       "      <td>3</td>\n",
       "      <td>8.390481e+06</td>\n",
       "    </tr>\n",
       "    <tr>\n",
       "      <th>3</th>\n",
       "      <td>4</td>\n",
       "      <td>9.890488e+06</td>\n",
       "    </tr>\n",
       "    <tr>\n",
       "      <th>4</th>\n",
       "      <td>5</td>\n",
       "      <td>9.535625e+06</td>\n",
       "    </tr>\n",
       "    <tr>\n",
       "      <th>5</th>\n",
       "      <td>6</td>\n",
       "      <td>8.725709e+06</td>\n",
       "    </tr>\n",
       "    <tr>\n",
       "      <th>6</th>\n",
       "      <td>7</td>\n",
       "      <td>5.635657e+06</td>\n",
       "    </tr>\n",
       "    <tr>\n",
       "      <th>7</th>\n",
       "      <td>8</td>\n",
       "      <td>3.904616e+06</td>\n",
       "    </tr>\n",
       "    <tr>\n",
       "      <th>8</th>\n",
       "      <td>9</td>\n",
       "      <td>5.148575e+06</td>\n",
       "    </tr>\n",
       "    <tr>\n",
       "      <th>9</th>\n",
       "      <td>10</td>\n",
       "      <td>4.552191e+06</td>\n",
       "    </tr>\n",
       "    <tr>\n",
       "      <th>10</th>\n",
       "      <td>11</td>\n",
       "      <td>1.663778e+06</td>\n",
       "    </tr>\n",
       "    <tr>\n",
       "      <th>11</th>\n",
       "      <td>12</td>\n",
       "      <td>2.693227e+06</td>\n",
       "    </tr>\n",
       "  </tbody>\n",
       "</table>\n",
       "</div>"
      ],
      "text/plain": [
       "    month          diff\n",
       "0       1 -1.464750e+06\n",
       "1       2  1.734183e+05\n",
       "2       3  8.390481e+06\n",
       "3       4  9.890488e+06\n",
       "4       5  9.535625e+06\n",
       "5       6  8.725709e+06\n",
       "6       7  5.635657e+06\n",
       "7       8  3.904616e+06\n",
       "8       9  5.148575e+06\n",
       "9      10  4.552191e+06\n",
       "10     11  1.663778e+06\n",
       "11     12  2.693227e+06"
      ]
     },
     "execution_count": 46,
     "metadata": {},
     "output_type": "execute_result"
    }
   ],
   "source": [
    "ts = time_se.groupby(['month'],as_index=False).agg({\"diff\":\"mean\"})\n",
    "ts"
   ]
  },
  {
   "cell_type": "code",
   "execution_count": 47,
   "metadata": {},
   "outputs": [
    {
     "data": {
      "text/plain": [
       "[<matplotlib.lines.Line2D at 0x7f80d29a6940>]"
      ]
     },
     "execution_count": 47,
     "metadata": {},
     "output_type": "execute_result"
    },
    {
     "data": {
      "image/png": "[encoded data removed]",
      "text/plain": [
       "<Figure size 432x288 with 1 Axes>"
      ]
     },
     "metadata": {
      "needs_background": "light"
     },
     "output_type": "display_data"
    }
   ],
   "source": [
    "plt.plot(ts.month,ts['diff'])"
   ]
  },
  {
   "cell_type": "code",
   "execution_count": 48,
   "metadata": {},
   "outputs": [
    {
     "data": {
      "text/plain": [
       "[<matplotlib.lines.Line2D at 0x7f80d30deb20>]"
      ]
     },
     "execution_count": 48,
     "metadata": {},
     "output_type": "execute_result"
    },
    {
     "data": {
      "image/png": "[encoded data removed]",
      "text/plain": [
       "<Figure size 432x288 with 1 Axes>"
      ]
     },
     "metadata": {
      "needs_background": "light"
     },
     "output_type": "display_data"
    }
   ],
   "source": [
    "plt.plot(time_se['year_month'],time_se['Revenue'])\n",
    "plt.plot(x,a*x + time_se.iloc[0]['Revenue'])\n",
    "plt.plot(x,a*x + time_se.iloc[0]['Revenue'] + ts.iloc[x%12]['diff'])"
   ]
  },
  {
   "attachments": {},
   "cell_type": "markdown",
   "metadata": {},
   "source": [
    "### Q13:Provide revenue of USA & Canada in January 2015"
   ]
  },
  {
   "cell_type": "code",
   "execution_count": 49,
   "metadata": {},
   "outputs": [
    {
     "data": {
      "text/plain": [
       "Revenue    12.869\n",
       "dtype: float64"
      ]
     },
     "execution_count": 49,
     "metadata": {},
     "output_type": "execute_result"
    }
   ],
   "source": [
    "ww_rev_usa_can = ww_df.groupby(['month','year','Country'],as_index=False).agg({\"Revenue\":\"sum\"})\n",
    "ww_rev_usa_can.Revenue = round(ww_rev_usa_can.Revenue / 10**6 , 3)\n",
    "ww_rev_usa_can = ww_rev_usa_can[(ww_rev_usa_can['year']==2015) & (ww_rev_usa_can['month']==1)]\n",
    "\n",
    "ww_rev_usa_can = ww_rev_usa_can[(ww_rev_usa_can['Country']=='USA' )| (ww_rev_usa_can['Country']=='Canada')]\n",
    "ww_rev_usa_can.agg({\"Revenue\":\"sum\"})"
   ]
  },
  {
   "attachments": {},
   "cell_type": "markdown",
   "metadata": {},
   "source": [
    "### Q14:In USA what is the top 3 states contributor to revenue?"
   ]
  },
  {
   "cell_type": "code",
   "execution_count": 50,
   "metadata": {},
   "outputs": [
    {
     "data": {
      "text/html": [
       "<div>\n",
       "<style scoped>\n",
       "    .dataframe tbody tr th:only-of-type {\n",
       "        vertical-align: middle;\n",
       "    }\n",
       "\n",
       "    .dataframe tbody tr th {\n",
       "        vertical-align: top;\n",
       "    }\n",
       "\n",
       "    .dataframe thead th {\n",
       "        text-align: right;\n",
       "    }\n",
       "</style>\n",
       "<table border=\"1\" class=\"dataframe\">\n",
       "  <thead>\n",
       "    <tr style=\"text-align: right;\">\n",
       "      <th></th>\n",
       "      <th>ProductID</th>\n",
       "      <th>Date</th>\n",
       "      <th>Zip</th>\n",
       "      <th>Units</th>\n",
       "      <th>Revenue</th>\n",
       "      <th>City</th>\n",
       "      <th>State</th>\n",
       "      <th>Region</th>\n",
       "      <th>District</th>\n",
       "      <th>Country</th>\n",
       "      <th>Product</th>\n",
       "      <th>Category</th>\n",
       "      <th>ManufacturerID</th>\n",
       "      <th>Price USD</th>\n",
       "      <th>Manufacturer</th>\n",
       "      <th>Logo</th>\n",
       "      <th>year</th>\n",
       "      <th>month</th>\n",
       "    </tr>\n",
       "  </thead>\n",
       "  <tbody>\n",
       "    <tr>\n",
       "      <th>0</th>\n",
       "      <td>1076</td>\n",
       "      <td>2012-01-20</td>\n",
       "      <td>72638</td>\n",
       "      <td>1</td>\n",
       "      <td>254.5725</td>\n",
       "      <td>Green Forest, AR, USA</td>\n",
       "      <td>AR</td>\n",
       "      <td>Central</td>\n",
       "      <td>District #21</td>\n",
       "      <td>USA</td>\n",
       "      <td>Pirum RP-22|Productivity</td>\n",
       "      <td>NaN</td>\n",
       "      <td>10</td>\n",
       "      <td>259.825</td>\n",
       "      <td>Pirum</td>\n",
       "      <td>https://raw.githubusercontent.com/CharlesSterl...</td>\n",
       "      <td>2012</td>\n",
       "      <td>1</td>\n",
       "    </tr>\n",
       "    <tr>\n",
       "      <th>1</th>\n",
       "      <td>1076</td>\n",
       "      <td>2012-01-21</td>\n",
       "      <td>47577</td>\n",
       "      <td>1</td>\n",
       "      <td>254.5725</td>\n",
       "      <td>Saint Meinrad, IN, USA</td>\n",
       "      <td>IN</td>\n",
       "      <td>Central</td>\n",
       "      <td>District #25</td>\n",
       "      <td>USA</td>\n",
       "      <td>Pirum RP-22|Productivity</td>\n",
       "      <td>NaN</td>\n",
       "      <td>10</td>\n",
       "      <td>259.825</td>\n",
       "      <td>Pirum</td>\n",
       "      <td>https://raw.githubusercontent.com/CharlesSterl...</td>\n",
       "      <td>2012</td>\n",
       "      <td>1</td>\n",
       "    </tr>\n",
       "    <tr>\n",
       "      <th>2</th>\n",
       "      <td>1076</td>\n",
       "      <td>2012-01-28</td>\n",
       "      <td>34653</td>\n",
       "      <td>1</td>\n",
       "      <td>254.5725</td>\n",
       "      <td>New Port Richey, FL, USA</td>\n",
       "      <td>FL</td>\n",
       "      <td>East</td>\n",
       "      <td>District #10</td>\n",
       "      <td>USA</td>\n",
       "      <td>Pirum RP-22|Productivity</td>\n",
       "      <td>NaN</td>\n",
       "      <td>10</td>\n",
       "      <td>259.825</td>\n",
       "      <td>Pirum</td>\n",
       "      <td>https://raw.githubusercontent.com/CharlesSterl...</td>\n",
       "      <td>2012</td>\n",
       "      <td>1</td>\n",
       "    </tr>\n",
       "    <tr>\n",
       "      <th>3</th>\n",
       "      <td>1076</td>\n",
       "      <td>2012-01-31</td>\n",
       "      <td>84014</td>\n",
       "      <td>1</td>\n",
       "      <td>254.5725</td>\n",
       "      <td>Centerville, UT, USA</td>\n",
       "      <td>UT</td>\n",
       "      <td>West</td>\n",
       "      <td>District #33</td>\n",
       "      <td>USA</td>\n",
       "      <td>Pirum RP-22|Productivity</td>\n",
       "      <td>NaN</td>\n",
       "      <td>10</td>\n",
       "      <td>259.825</td>\n",
       "      <td>Pirum</td>\n",
       "      <td>https://raw.githubusercontent.com/CharlesSterl...</td>\n",
       "      <td>2012</td>\n",
       "      <td>1</td>\n",
       "    </tr>\n",
       "    <tr>\n",
       "      <th>4</th>\n",
       "      <td>1076</td>\n",
       "      <td>2012-02-01</td>\n",
       "      <td>75070</td>\n",
       "      <td>1</td>\n",
       "      <td>254.5725</td>\n",
       "      <td>Mckinney, TX, USA</td>\n",
       "      <td>TX</td>\n",
       "      <td>Central</td>\n",
       "      <td>District #22</td>\n",
       "      <td>USA</td>\n",
       "      <td>Pirum RP-22|Productivity</td>\n",
       "      <td>NaN</td>\n",
       "      <td>10</td>\n",
       "      <td>259.825</td>\n",
       "      <td>Pirum</td>\n",
       "      <td>https://raw.githubusercontent.com/CharlesSterl...</td>\n",
       "      <td>2012</td>\n",
       "      <td>2</td>\n",
       "    </tr>\n",
       "  </tbody>\n",
       "</table>\n",
       "</div>"
      ],
      "text/plain": [
       "   ProductID        Date    Zip  Units   Revenue                      City  \\\n",
       "0       1076  2012-01-20  72638      1  254.5725     Green Forest, AR, USA   \n",
       "1       1076  2012-01-21  47577      1  254.5725    Saint Meinrad, IN, USA   \n",
       "2       1076  2012-01-28  34653      1  254.5725  New Port Richey, FL, USA   \n",
       "3       1076  2012-01-31  84014      1  254.5725      Centerville, UT, USA   \n",
       "4       1076  2012-02-01  75070      1  254.5725         Mckinney, TX, USA   \n",
       "\n",
       "  State   Region      District Country                   Product Category  \\\n",
       "0    AR  Central  District #21     USA  Pirum RP-22|Productivity      NaN   \n",
       "1    IN  Central  District #25     USA  Pirum RP-22|Productivity      NaN   \n",
       "2    FL     East  District #10     USA  Pirum RP-22|Productivity      NaN   \n",
       "3    UT     West  District #33     USA  Pirum RP-22|Productivity      NaN   \n",
       "4    TX  Central  District #22     USA  Pirum RP-22|Productivity      NaN   \n",
       "\n",
       "   ManufacturerID  Price USD Manufacturer  \\\n",
       "0              10    259.825        Pirum   \n",
       "1              10    259.825        Pirum   \n",
       "2              10    259.825        Pirum   \n",
       "3              10    259.825        Pirum   \n",
       "4              10    259.825        Pirum   \n",
       "\n",
       "                                                Logo  year  month  \n",
       "0  https://raw.githubusercontent.com/CharlesSterl...  2012      1  \n",
       "1  https://raw.githubusercontent.com/CharlesSterl...  2012      1  \n",
       "2  https://raw.githubusercontent.com/CharlesSterl...  2012      1  \n",
       "3  https://raw.githubusercontent.com/CharlesSterl...  2012      1  \n",
       "4  https://raw.githubusercontent.com/CharlesSterl...  2012      2  "
      ]
     },
     "execution_count": 50,
     "metadata": {},
     "output_type": "execute_result"
    }
   ],
   "source": [
    "ww_df.head()"
   ]
  },
  {
   "cell_type": "code",
   "execution_count": 51,
   "metadata": {},
   "outputs": [
    {
     "data": {
      "text/html": [
       "<div>\n",
       "<style scoped>\n",
       "    .dataframe tbody tr th:only-of-type {\n",
       "        vertical-align: middle;\n",
       "    }\n",
       "\n",
       "    .dataframe tbody tr th {\n",
       "        vertical-align: top;\n",
       "    }\n",
       "\n",
       "    .dataframe thead th {\n",
       "        text-align: right;\n",
       "    }\n",
       "</style>\n",
       "<table border=\"1\" class=\"dataframe\">\n",
       "  <thead>\n",
       "    <tr style=\"text-align: right;\">\n",
       "      <th></th>\n",
       "      <th>State</th>\n",
       "      <th>Country</th>\n",
       "      <th>Revenue</th>\n",
       "    </tr>\n",
       "  </thead>\n",
       "  <tbody>\n",
       "    <tr>\n",
       "      <th>11</th>\n",
       "      <td>CA</td>\n",
       "      <td>USA</td>\n",
       "      <td>238.196</td>\n",
       "    </tr>\n",
       "    <tr>\n",
       "      <th>17</th>\n",
       "      <td>FL</td>\n",
       "      <td>USA</td>\n",
       "      <td>166.510</td>\n",
       "    </tr>\n",
       "    <tr>\n",
       "      <th>74</th>\n",
       "      <td>TX</td>\n",
       "      <td>USA</td>\n",
       "      <td>122.685</td>\n",
       "    </tr>\n",
       "  </tbody>\n",
       "</table>\n",
       "</div>"
      ],
      "text/plain": [
       "   State Country  Revenue\n",
       "11    CA     USA  238.196\n",
       "17    FL     USA  166.510\n",
       "74    TX     USA  122.685"
      ]
     },
     "execution_count": 51,
     "metadata": {},
     "output_type": "execute_result"
    }
   ],
   "source": [
    "ww_sta_usa = ww_df.groupby(['State','Country'],as_index=False).agg({\"Revenue\":\"sum\"}).sort_values('Revenue',ascending= False)\n",
    "ww_sta_usa = ww_sta_usa[ww_sta_usa[\"Country\"] == \"USA\"]\n",
    "ww_sta_usa.Revenue = round(ww_sta_usa.Revenue / 10**6 , 3)\n",
    "ww_sta_usa.head(3)"
   ]
  },
  {
   "attachments": {},
   "cell_type": "markdown",
   "metadata": {},
   "source": [
    "### Q15:In USA what is the region with the most important share of revenue?"
   ]
  },
  {
   "cell_type": "code",
   "execution_count": 52,
   "metadata": {},
   "outputs": [
    {
     "data": {
      "text/html": [
       "<div>\n",
       "<style scoped>\n",
       "    .dataframe tbody tr th:only-of-type {\n",
       "        vertical-align: middle;\n",
       "    }\n",
       "\n",
       "    .dataframe tbody tr th {\n",
       "        vertical-align: top;\n",
       "    }\n",
       "\n",
       "    .dataframe thead th {\n",
       "        text-align: right;\n",
       "    }\n",
       "</style>\n",
       "<table border=\"1\" class=\"dataframe\">\n",
       "  <thead>\n",
       "    <tr style=\"text-align: right;\">\n",
       "      <th></th>\n",
       "      <th>Region</th>\n",
       "      <th>Country</th>\n",
       "      <th>Revenue</th>\n",
       "      <th>share</th>\n",
       "    </tr>\n",
       "  </thead>\n",
       "  <tbody>\n",
       "    <tr>\n",
       "      <th>3</th>\n",
       "      <td>East</td>\n",
       "      <td>USA</td>\n",
       "      <td>753.190</td>\n",
       "      <td>44.16%</td>\n",
       "    </tr>\n",
       "    <tr>\n",
       "      <th>1</th>\n",
       "      <td>Central</td>\n",
       "      <td>USA</td>\n",
       "      <td>528.915</td>\n",
       "      <td>31.01%</td>\n",
       "    </tr>\n",
       "    <tr>\n",
       "      <th>8</th>\n",
       "      <td>West</td>\n",
       "      <td>USA</td>\n",
       "      <td>423.556</td>\n",
       "      <td>24.83%</td>\n",
       "    </tr>\n",
       "  </tbody>\n",
       "</table>\n",
       "</div>"
      ],
      "text/plain": [
       "    Region Country  Revenue   share\n",
       "3     East     USA  753.190  44.16%\n",
       "1  Central     USA  528.915  31.01%\n",
       "8     West     USA  423.556  24.83%"
      ]
     },
     "execution_count": 52,
     "metadata": {},
     "output_type": "execute_result"
    }
   ],
   "source": [
    "ww_ri_usa = ww_df.groupby(['Region','Country'],as_index=False).agg({\"Revenue\":\"sum\"}).sort_values('Revenue',ascending= False)\n",
    "ww_ri_usa = ww_ri_usa[ww_ri_usa[\"Country\"] == \"USA\"]\n",
    "ww_ri_usa['share']= ww_ri_usa[\"Revenue\"]/ww_ri_usa[\"Revenue\"].sum()\n",
    "ww_ri_usa.Revenue = round(ww_ri_usa.Revenue / 10**6 , 3)\n",
    "ww_ri_usa['share']=ww_ri_usa['share'].apply(lambda x: format(x, '.2%'))\n",
    "ww_ri_usa.head()"
   ]
  },
  {
   "attachments": {},
   "cell_type": "markdown",
   "metadata": {},
   "source": [
    "### Q16:In USA for 2014, what is the top 3 states with the most important volume of unit?"
   ]
  },
  {
   "cell_type": "code",
   "execution_count": 53,
   "metadata": {},
   "outputs": [
    {
     "data": {
      "text/html": [
       "<div>\n",
       "<style scoped>\n",
       "    .dataframe tbody tr th:only-of-type {\n",
       "        vertical-align: middle;\n",
       "    }\n",
       "\n",
       "    .dataframe tbody tr th {\n",
       "        vertical-align: top;\n",
       "    }\n",
       "\n",
       "    .dataframe thead th {\n",
       "        text-align: right;\n",
       "    }\n",
       "</style>\n",
       "<table border=\"1\" class=\"dataframe\">\n",
       "  <thead>\n",
       "    <tr style=\"text-align: right;\">\n",
       "      <th></th>\n",
       "      <th>State</th>\n",
       "      <th>Country</th>\n",
       "      <th>year</th>\n",
       "      <th>Units</th>\n",
       "    </tr>\n",
       "  </thead>\n",
       "  <tbody>\n",
       "    <tr>\n",
       "      <th>91</th>\n",
       "      <td>CA</td>\n",
       "      <td>USA</td>\n",
       "      <td>2014</td>\n",
       "      <td>91282</td>\n",
       "    </tr>\n",
       "    <tr>\n",
       "      <th>139</th>\n",
       "      <td>FL</td>\n",
       "      <td>USA</td>\n",
       "      <td>2014</td>\n",
       "      <td>42952</td>\n",
       "    </tr>\n",
       "    <tr>\n",
       "      <th>595</th>\n",
       "      <td>TX</td>\n",
       "      <td>USA</td>\n",
       "      <td>2014</td>\n",
       "      <td>38639</td>\n",
       "    </tr>\n",
       "  </tbody>\n",
       "</table>\n",
       "</div>"
      ],
      "text/plain": [
       "    State Country  year  Units\n",
       "91     CA     USA  2014  91282\n",
       "139    FL     USA  2014  42952\n",
       "595    TX     USA  2014  38639"
      ]
     },
     "execution_count": 53,
     "metadata": {},
     "output_type": "execute_result"
    }
   ],
   "source": [
    "ww_unit = ww_df.groupby(['State','Country','year'],as_index=False).agg({\"Units\":\"sum\"}).sort_values('Units',ascending= False)\n",
    "ww_unit = ww_unit[(ww_unit[\"Country\"] == \"USA\") & (ww_unit[\"year\"] == 2014)]\n",
    "ww_unit.head(3)"
   ]
  },
  {
   "attachments": {},
   "cell_type": "markdown",
   "metadata": {},
   "source": [
    "### 17:In Canada for 2017, what is the state with the most important volume of unit and revenue?"
   ]
  },
  {
   "cell_type": "code",
   "execution_count": 54,
   "metadata": {},
   "outputs": [
    {
     "data": {
      "text/html": [
       "<div>\n",
       "<style scoped>\n",
       "    .dataframe tbody tr th:only-of-type {\n",
       "        vertical-align: middle;\n",
       "    }\n",
       "\n",
       "    .dataframe tbody tr th {\n",
       "        vertical-align: top;\n",
       "    }\n",
       "\n",
       "    .dataframe thead th {\n",
       "        text-align: right;\n",
       "    }\n",
       "</style>\n",
       "<table border=\"1\" class=\"dataframe\">\n",
       "  <thead>\n",
       "    <tr style=\"text-align: right;\">\n",
       "      <th></th>\n",
       "      <th>State</th>\n",
       "      <th>Country</th>\n",
       "      <th>year</th>\n",
       "      <th>Revenue</th>\n",
       "      <th>Units</th>\n",
       "    </tr>\n",
       "  </thead>\n",
       "  <tbody>\n",
       "    <tr>\n",
       "      <th>462</th>\n",
       "      <td>Ontario</td>\n",
       "      <td>Canada</td>\n",
       "      <td>2017</td>\n",
       "      <td>0.855</td>\n",
       "      <td>2120</td>\n",
       "    </tr>\n",
       "  </tbody>\n",
       "</table>\n",
       "</div>"
      ],
      "text/plain": [
       "       State Country  year  Revenue  Units\n",
       "462  Ontario  Canada  2017    0.855   2120"
      ]
     },
     "execution_count": 54,
     "metadata": {},
     "output_type": "execute_result"
    }
   ],
   "source": [
    "ww_can = ww_df.groupby(['State','Country','year'],as_index=False).agg({\"Revenue\":\"sum\", \"Units\":\"sum\"}).sort_values(['Revenue','Units'],ascending= False)\n",
    "ww_can= ww_can[(ww_can[\"Country\"] == \"Canada\") & (ww_can[\"year\"] == 2017)]\n",
    "ww_can.Revenue = round(ww_can.Revenue / 10**6 , 3)\n",
    "ww_can.head(1)"
   ]
  },
  {
   "attachments": {},
   "cell_type": "markdown",
   "metadata": {},
   "source": [
    "### Q18:WW forecast for 2019 using ARIMA Model (Simple Model)"
   ]
  },
  {
   "cell_type": "code",
   "execution_count": 55,
   "metadata": {},
   "outputs": [],
   "source": [
    "#df = time_se['Revenue']\n",
    "#df.index = pd.to_datetime(time_se['year_month'])\n",
    "#df"
   ]
  },
  {
   "cell_type": "code",
   "execution_count": 56,
   "metadata": {},
   "outputs": [],
   "source": [
    "#from statsmodels.tsa.arima.model import ARIMA\n",
    "#model = ARIMA(df, order=(12,2,1))\n",
    "#model_fit = model.fit()\n",
    "#print(model_fit.summary())"
   ]
  },
  {
   "cell_type": "code",
   "execution_count": 57,
   "metadata": {},
   "outputs": [],
   "source": [
    "#forecast = model_fit.forecast(12)\n",
    "#forecast.sum()"
   ]
  },
  {
   "cell_type": "code",
   "execution_count": 58,
   "metadata": {},
   "outputs": [
    {
     "ename": "NameError",
     "evalue": "name 'df' is not defined",
     "output_type": "error",
     "traceback": [
      "\u001b[0;31m---------------------------------------------------------------------------\u001b[0m",
      "\u001b[0;31mNameError\u001b[0m                                 Traceback (most recent call last)",
      "\u001b[1;32m/Users/abc/Desktop/big data/Case Study - Data- Blue Corporation Revenue/revenue_performance.ipynb Cell 83\u001b[0m in \u001b[0;36m<cell line: 1>\u001b[0;34m()\u001b[0m\n\u001b[0;32m----> <a href='vscode-notebook-cell:/Users/abc/Desktop/big%20data/Case%20Study%20-%20Data-%20Blue%20Corporation%20Revenue/revenue_performance.ipynb#Y145sZmlsZQ%3D%3D?line=0'>1</a>\u001b[0m plt\u001b[39m.\u001b[39mplot(df\u001b[39m.\u001b[39mindex, df)\n\u001b[1;32m      <a href='vscode-notebook-cell:/Users/abc/Desktop/big%20data/Case%20Study%20-%20Data-%20Blue%20Corporation%20Revenue/revenue_performance.ipynb#Y145sZmlsZQ%3D%3D?line=1'>2</a>\u001b[0m plt\u001b[39m.\u001b[39mplot(forecast\u001b[39m.\u001b[39mindex,forecast)\n",
      "\u001b[0;31mNameError\u001b[0m: name 'df' is not defined"
     ]
    }
   ],
   "source": [
    "plt.plot(df.index, df)\n",
    "plt.plot(forecast.index,forecast)"
   ]
  },
  {
   "attachments": {},
   "cell_type": "markdown",
   "metadata": {},
   "source": [
    "## 2nd way : ARIMA model"
   ]
  },
  {
   "cell_type": "code",
   "execution_count": null,
   "metadata": {},
   "outputs": [],
   "source": [
    "import pmdarima as pm\n",
    "from statsmodels.tsa.seasonal import seasonal_decompose\n",
    "from statsmodels.graphics.tsaplots import plot_acf, plot_pacf  # Comfirming order\n",
    "from statsmodels.tsa.stattools import adfuller                 # ADFtest\n",
    "import warnings\n",
    "warnings.filterwarnings(\"ignore\")  \n"
   ]
  },
  {
   "cell_type": "code",
   "execution_count": null,
   "metadata": {},
   "outputs": [
    {
     "data": {
      "text/html": [
       "<div>\n",
       "<style scoped>\n",
       "    .dataframe tbody tr th:only-of-type {\n",
       "        vertical-align: middle;\n",
       "    }\n",
       "\n",
       "    .dataframe tbody tr th {\n",
       "        vertical-align: top;\n",
       "    }\n",
       "\n",
       "    .dataframe thead th {\n",
       "        text-align: right;\n",
       "    }\n",
       "</style>\n",
       "<table border=\"1\" class=\"dataframe\">\n",
       "  <thead>\n",
       "    <tr style=\"text-align: right;\">\n",
       "      <th></th>\n",
       "      <th>Revenue</th>\n",
       "    </tr>\n",
       "    <tr>\n",
       "      <th>year_month</th>\n",
       "      <th></th>\n",
       "    </tr>\n",
       "  </thead>\n",
       "  <tbody>\n",
       "    <tr>\n",
       "      <th>2011-01-01</th>\n",
       "      <td>13.1</td>\n",
       "    </tr>\n",
       "    <tr>\n",
       "      <th>2011-02-01</th>\n",
       "      <td>14.1</td>\n",
       "    </tr>\n",
       "    <tr>\n",
       "      <th>2011-03-01</th>\n",
       "      <td>19.4</td>\n",
       "    </tr>\n",
       "    <tr>\n",
       "      <th>2011-04-01</th>\n",
       "      <td>19.9</td>\n",
       "    </tr>\n",
       "    <tr>\n",
       "      <th>2011-05-01</th>\n",
       "      <td>20.2</td>\n",
       "    </tr>\n",
       "    <tr>\n",
       "      <th>...</th>\n",
       "      <td>...</td>\n",
       "    </tr>\n",
       "    <tr>\n",
       "      <th>2018-08-01</th>\n",
       "      <td>41.4</td>\n",
       "    </tr>\n",
       "    <tr>\n",
       "      <th>2018-09-01</th>\n",
       "      <td>42.7</td>\n",
       "    </tr>\n",
       "    <tr>\n",
       "      <th>2018-10-01</th>\n",
       "      <td>40.3</td>\n",
       "    </tr>\n",
       "    <tr>\n",
       "      <th>2018-11-01</th>\n",
       "      <td>37.4</td>\n",
       "    </tr>\n",
       "    <tr>\n",
       "      <th>2018-12-01</th>\n",
       "      <td>37.7</td>\n",
       "    </tr>\n",
       "  </tbody>\n",
       "</table>\n",
       "<p>96 rows × 1 columns</p>\n",
       "</div>"
      ],
      "text/plain": [
       "            Revenue\n",
       "year_month         \n",
       "2011-01-01     13.1\n",
       "2011-02-01     14.1\n",
       "2011-03-01     19.4\n",
       "2011-04-01     19.9\n",
       "2011-05-01     20.2\n",
       "...             ...\n",
       "2018-08-01     41.4\n",
       "2018-09-01     42.7\n",
       "2018-10-01     40.3\n",
       "2018-11-01     37.4\n",
       "2018-12-01     37.7\n",
       "\n",
       "[96 rows x 1 columns]"
      ]
     },
     "execution_count": 269,
     "metadata": {},
     "output_type": "execute_result"
    }
   ],
   "source": [
    "ts = ww_df.groupby(['year','month'],as_index=False).agg({\"Revenue\":\"sum\"})\n",
    "ts['year_month'] = ts['month'].map(str) + '-' + ts['year'].map(str)\n",
    "ts.index = pd.to_datetime(ts['year_month'])\n",
    "ts.Revenue = round(ts.Revenue / 10**6 , 1)\n",
    "ts.drop(['year','month','year_month'], axis=1, inplace=True)\n",
    "ts"
   ]
  },
  {
   "attachments": {},
   "cell_type": "markdown",
   "metadata": {},
   "source": [
    "### 1.Seasonal analysis"
   ]
  },
  {
   "cell_type": "code",
   "execution_count": null,
   "metadata": {},
   "outputs": [
    {
     "data": {
      "text/plain": [
       "<AxesSubplot:xlabel='year_month'>"
      ]
     },
     "execution_count": 270,
     "metadata": {},
     "output_type": "execute_result"
    },
    {
     "data": {
      "image/png": "[encoded data removed]",
      "text/plain": [
       "<Figure size 432x288 with 1 Axes>"
      ]
     },
     "metadata": {
      "needs_background": "light"
     },
     "output_type": "display_data"
    }
   ],
   "source": [
    "ts.plot()\n",
    "#plt.show()"
   ]
  },
  {
   "attachments": {},
   "cell_type": "markdown",
   "metadata": {},
   "source": [
    "Obviously, we can see that the data has an upward trend, and we can qualitatively judge that the series is not stationary. In addition, the time series has a relatively obvious seasonal trend, that is, basically every year the data shows first rising and then falling."
   ]
  },
  {
   "attachments": {},
   "cell_type": "markdown",
   "metadata": {},
   "source": [
    "Use seasonal_decompose() to analyze the time series into three parts: Trend, Seasonal Cycleal, and Resid"
   ]
  },
  {
   "cell_type": "code",
   "execution_count": null,
   "metadata": {},
   "outputs": [
    {
     "data": {
      "image/png": "[encoded data removed]",
      "text/plain": [
       "<Figure size 432x288 with 4 Axes>"
      ]
     },
     "metadata": {
      "needs_background": "light"
     },
     "output_type": "display_data"
    }
   ],
   "source": [
    "decompose_result_mult = seasonal_decompose(ts, model=\"multiplicative\")\n",
    "trend = decompose_result_mult.trend\n",
    "seasonal = decompose_result_mult.seasonal\n",
    "residual = decompose_result_mult.resid\n",
    "\n",
    "decompose_result_mult.plot()\n",
    "plt.show()"
   ]
  },
  {
   "attachments": {},
   "cell_type": "markdown",
   "metadata": {},
   "source": [
    "### 2. Augmented Dickey-Fuller Test"
   ]
  },
  {
   "attachments": {},
   "cell_type": "markdown",
   "metadata": {},
   "source": [
    "ARIMA models require that the time series be stationary. The basic idea of the so-called stationarity is that the statistical laws that determine the characteristics of the process do not change with time"
   ]
  },
  {
   "attachments": {},
   "cell_type": "markdown",
   "metadata": {},
   "source": [
    "The ADF test is mainly to determine whether the time series contains a unit root: if the sequence is stable, there is no unit root; Otherwise, there is a unit root"
   ]
  },
  {
   "cell_type": "code",
   "execution_count": null,
   "metadata": {},
   "outputs": [
    {
     "data": {
      "image/png": "[encoded data removed]",
      "text/plain": [
       "<Figure size 864x576 with 1 Axes>"
      ]
     },
     "metadata": {
      "needs_background": "light"
     },
     "output_type": "display_data"
    }
   ],
   "source": [
    "# Moving the mean and variance of the 12 periods\n",
    "rol_mean = ts.rolling(window=12).mean()\n",
    "rol_std = ts.rolling(window=12).std()\n",
    "\n",
    "fig = plt.figure(figsize=(12, 8))\n",
    "orig = plt.plot(ts, color='blue', label='Original')\n",
    "mean = plt.plot(rol_mean, color='red', label='Rolling Mean')\n",
    "std = plt.plot(rol_std, color='black', label='Rolling Std')\n",
    "plt.legend(loc='best')\n",
    "plt.title('Rolling Mean & Standard Deviation')\n",
    "plt.show()\n",
    "\n",
    "# Semantic description of test results"
   ]
  },
  {
   "cell_type": "code",
   "execution_count": null,
   "metadata": {},
   "outputs": [
    {
     "name": "stdout",
     "output_type": "stream",
     "text": [
      "Results of Dickey-Fuller Test:\n",
      "Test Statistic                 -3.652695\n",
      "p-value                         0.004830\n",
      "#Lags Used                     11.000000\n",
      "Number of Observations Used    84.000000\n",
      "Critical Value (1%)            -3.510712\n",
      "Critical Value (5%)            -2.896616\n",
      "Critical Value (10%)           -2.585482\n",
      "dtype: float64\n"
     ]
    }
   ],
   "source": [
    "print('Results of Dickey-Fuller Test:')\n",
    "dftest = adfuller(ts, autolag='AIC')\n",
    "\n",
    "# Semantic description of test results\n",
    "dfoutput = pd.Series(dftest[0:4], index=['Test Statistic', 'p-value', '#Lags Used', 'Number of Observations Used'])\n",
    "for key, value in dftest[4].items():\n",
    "    dfoutput['Critical Value (%s)' % key] = value\n",
    "print(dfoutput)\n"
   ]
  },
  {
   "attachments": {},
   "cell_type": "markdown",
   "metadata": {},
   "source": [
    "The test results are as follows. \n",
    "<br/>The H0 of the ADF test is that there is a root of units, and if the resulting significance test statistic is less than three confidence levels ( 10% , 5 % , 1 % ) , then there is ( 90 % , 95 , 99 % ) confidence to reject the null hypothesis. There are two ways to judge:\n",
    "\n",
    "<br/>(1) Here the Test Statistic is compared with the statistical values of 1%, %5, and %10 that reject the null hypothesis to varying degrees. When the ADF test result is less than 1%, 5%, or 10% at the same time, it means that the hypothesis is very well rejected. \n",
    "\n",
    "<br/> (2) Observe whether the p-value is very close to 0. Here the p-value is about 0.007< 0.05, so the null hypothesis can be rejected.\n",
    "\n",
    "<br/>The null hypothesis of the ADF test is that the time series is non-stationary. So, if the p-value of the test is less than the significance level (0.05) then you reject the null hypothesis and infer that the time series is indeed stationary."
   ]
  },
  {
   "attachments": {},
   "cell_type": "markdown",
   "metadata": {},
   "source": [
    "### 3. Time series ordering\n",
    "Partial Autocorrelation (PACF) plot"
   ]
  },
  {
   "cell_type": "code",
   "execution_count": null,
   "metadata": {},
   "outputs": [
    {
     "data": {
      "text/plain": [
       "Text(0.5, 1.0, 'ACF_graph')"
      ]
     },
     "execution_count": 274,
     "metadata": {},
     "output_type": "execute_result"
    },
    {
     "data": {
      "image/png": "[encoded data removed]",
      "text/plain": [
       "<Figure size 432x288 with 1 Axes>"
      ]
     },
     "metadata": {
      "needs_background": "light"
     },
     "output_type": "display_data"
    }
   ],
   "source": [
    "# use the acf to determine the order of the model\n",
    "plot_acf(ts)\n",
    "plt.title('ACF_graph')\n"
   ]
  },
  {
   "cell_type": "code",
   "execution_count": null,
   "metadata": {},
   "outputs": [
    {
     "data": {
      "text/plain": [
       "Text(0.5, 1.0, 'PACF_graph')"
      ]
     },
     "execution_count": 275,
     "metadata": {},
     "output_type": "execute_result"
    },
    {
     "data": {
      "image/png": "[encoded data removed]",
      "text/plain": [
       "<Figure size 432x288 with 1 Axes>"
      ]
     },
     "metadata": {
      "needs_background": "light"
     },
     "output_type": "display_data"
    }
   ],
   "source": [
    "# use the acf to determine the order of the model\n",
    "plot_pacf(ts)\n",
    "plt.title('PACF_graph')"
   ]
  },
  {
   "cell_type": "code",
   "execution_count": null,
   "metadata": {},
   "outputs": [
    {
     "data": {
      "image/png": "[encoded data removed]",
      "text/plain": [
       "<Figure size 432x288 with 2 Axes>"
      ]
     },
     "metadata": {},
     "output_type": "display_data"
    }
   ],
   "source": [
    "from matplotlib.pyplot import MultipleLocator\n",
    "\n",
    "f = plt.figure(facecolor='pink')\n",
    "# build the first graph\n",
    "ax1 = f.add_subplot(211)\n",
    "# Set the tick interval of the x-axis to 1 and store it in the variable\n",
    "x_major_locator = MultipleLocator(1)\n",
    "plot_acf(ts,ax=ax1)\n",
    "\n",
    "# build the second graph\n",
    "ax2 = f.add_subplot(212)\n",
    "plot_pacf(ts, ax=ax2)\n",
    "plt.subplots_adjust(hspace=0.5)\n",
    "\n",
    "# Set the major scale of the x-axis to a multiple of 1\n",
    "ax1.xaxis.set_major_locator(x_major_locator)\n",
    "ax2.xaxis.set_major_locator(x_major_locator)"
   ]
  },
  {
   "attachments": {},
   "cell_type": "markdown",
   "metadata": {},
   "source": [
    "### 4. Build ARIMA models and predictions"
   ]
  },
  {
   "attachments": {},
   "cell_type": "markdown",
   "metadata": {},
   "source": [
    "import pmdarima as pm\n"
   ]
  },
  {
   "attachments": {},
   "cell_type": "markdown",
   "metadata": {},
   "source": [
    "#### (1) build model"
   ]
  },
  {
   "cell_type": "code",
   "execution_count": null,
   "metadata": {},
   "outputs": [
    {
     "name": "stdout",
     "output_type": "stream",
     "text": [
      " ARIMA(0,0,0)(0,1,0)[12] intercept   : AIC=300.549, Time=0.07 sec\n",
      " ARIMA(0,0,0)(0,1,1)[12] intercept   : AIC=302.106, Time=0.07 sec\n",
      " ARIMA(0,0,0)(0,1,2)[12] intercept   : AIC=300.835, Time=0.46 sec\n",
      " ARIMA(0,0,0)(1,1,0)[12] intercept   : AIC=302.250, Time=0.08 sec\n",
      " ARIMA(0,0,0)(1,1,1)[12] intercept   : AIC=inf, Time=0.27 sec\n",
      " ARIMA(0,0,0)(1,1,2)[12] intercept   : AIC=inf, Time=1.71 sec\n",
      " ARIMA(0,0,0)(2,1,0)[12] intercept   : AIC=301.825, Time=0.46 sec\n",
      " ARIMA(0,0,0)(2,1,1)[12] intercept   : AIC=inf, Time=2.13 sec\n",
      " ARIMA(0,0,0)(2,1,2)[12] intercept   : AIC=inf, Time=3.46 sec\n",
      " ARIMA(0,0,1)(0,1,0)[12] intercept   : AIC=298.049, Time=0.03 sec\n",
      " ARIMA(0,0,1)(0,1,1)[12] intercept   : AIC=300.048, Time=0.09 sec\n",
      " ARIMA(0,0,1)(0,1,2)[12] intercept   : AIC=298.152, Time=0.31 sec\n",
      " ARIMA(0,0,1)(1,1,0)[12] intercept   : AIC=300.048, Time=0.08 sec\n",
      " ARIMA(0,0,1)(1,1,1)[12] intercept   : AIC=inf, Time=0.35 sec\n",
      " ARIMA(0,0,1)(1,1,2)[12] intercept   : AIC=300.143, Time=0.55 sec\n",
      " ARIMA(0,0,1)(2,1,0)[12] intercept   : AIC=299.003, Time=0.37 sec\n",
      " ARIMA(0,0,1)(2,1,1)[12] intercept   : AIC=300.679, Time=0.83 sec\n",
      " ARIMA(0,0,1)(2,1,2)[12] intercept   : AIC=inf, Time=1.95 sec\n",
      " ARIMA(0,0,2)(0,1,0)[12] intercept   : AIC=295.037, Time=0.04 sec\n",
      " ARIMA(0,0,2)(0,1,1)[12] intercept   : AIC=296.055, Time=0.30 sec\n",
      " ARIMA(0,0,2)(0,1,2)[12] intercept   : AIC=290.234, Time=0.88 sec\n",
      " ARIMA(0,0,2)(1,1,0)[12] intercept   : AIC=296.633, Time=0.12 sec\n",
      " ARIMA(0,0,2)(1,1,1)[12] intercept   : AIC=inf, Time=0.42 sec\n",
      " ARIMA(0,0,2)(1,1,2)[12] intercept   : AIC=292.178, Time=1.73 sec\n",
      " ARIMA(0,0,2)(2,1,0)[12] intercept   : AIC=291.020, Time=0.86 sec\n",
      " ARIMA(0,0,2)(2,1,1)[12] intercept   : AIC=inf, Time=1.38 sec\n",
      " ARIMA(0,0,3)(0,1,0)[12] intercept   : AIC=297.332, Time=0.06 sec\n",
      " ARIMA(0,0,3)(0,1,1)[12] intercept   : AIC=299.319, Time=0.15 sec\n",
      " ARIMA(0,0,3)(0,1,2)[12] intercept   : AIC=inf, Time=1.66 sec\n",
      " ARIMA(0,0,3)(1,1,0)[12] intercept   : AIC=inf, Time=0.35 sec\n",
      " ARIMA(0,0,3)(1,1,1)[12] intercept   : AIC=inf, Time=0.42 sec\n",
      " ARIMA(0,0,3)(2,1,0)[12] intercept   : AIC=inf, Time=1.37 sec\n",
      " ARIMA(0,0,4)(0,1,0)[12] intercept   : AIC=inf, Time=0.18 sec\n",
      " ARIMA(0,0,4)(0,1,1)[12] intercept   : AIC=inf, Time=0.65 sec\n",
      " ARIMA(0,0,4)(1,1,0)[12] intercept   : AIC=inf, Time=0.32 sec\n",
      " ARIMA(0,0,5)(0,1,0)[12] intercept   : AIC=inf, Time=0.28 sec\n",
      " ARIMA(1,0,0)(0,1,0)[12] intercept   : AIC=296.437, Time=0.03 sec\n",
      " ARIMA(1,0,0)(0,1,1)[12] intercept   : AIC=298.327, Time=0.08 sec\n",
      " ARIMA(1,0,0)(0,1,2)[12] intercept   : AIC=295.894, Time=0.34 sec\n",
      " ARIMA(1,0,0)(1,1,0)[12] intercept   : AIC=298.376, Time=0.12 sec\n",
      " ARIMA(1,0,0)(1,1,1)[12] intercept   : AIC=inf, Time=0.34 sec\n",
      " ARIMA(1,0,0)(1,1,2)[12] intercept   : AIC=297.792, Time=0.47 sec\n",
      " ARIMA(1,0,0)(2,1,0)[12] intercept   : AIC=296.340, Time=0.43 sec\n",
      " ARIMA(1,0,0)(2,1,1)[12] intercept   : AIC=297.871, Time=1.10 sec\n",
      " ARIMA(1,0,0)(2,1,2)[12] intercept   : AIC=299.755, Time=1.74 sec\n",
      " ARIMA(1,0,1)(0,1,0)[12] intercept   : AIC=294.342, Time=0.09 sec\n",
      " ARIMA(1,0,1)(0,1,1)[12] intercept   : AIC=295.678, Time=0.38 sec\n",
      " ARIMA(1,0,1)(0,1,2)[12] intercept   : AIC=295.403, Time=2.48 sec\n",
      " ARIMA(1,0,1)(1,1,0)[12] intercept   : AIC=295.902, Time=0.34 sec\n",
      " ARIMA(1,0,1)(1,1,1)[12] intercept   : AIC=297.277, Time=0.39 sec\n",
      " ARIMA(1,0,1)(1,1,2)[12] intercept   : AIC=inf, Time=2.10 sec\n",
      " ARIMA(1,0,1)(2,1,0)[12] intercept   : AIC=294.785, Time=1.42 sec\n",
      " ARIMA(1,0,1)(2,1,1)[12] intercept   : AIC=295.125, Time=1.77 sec\n",
      " ARIMA(1,0,2)(0,1,0)[12] intercept   : AIC=inf, Time=0.20 sec\n",
      " ARIMA(1,0,2)(0,1,1)[12] intercept   : AIC=297.290, Time=0.44 sec\n",
      " ARIMA(1,0,2)(0,1,2)[12] intercept   : AIC=inf, Time=2.10 sec\n",
      " ARIMA(1,0,2)(1,1,0)[12] intercept   : AIC=inf, Time=0.41 sec\n",
      " ARIMA(1,0,2)(1,1,1)[12] intercept   : AIC=inf, Time=0.49 sec\n",
      " ARIMA(1,0,2)(2,1,0)[12] intercept   : AIC=inf, Time=1.76 sec\n",
      " ARIMA(1,0,3)(0,1,0)[12] intercept   : AIC=inf, Time=0.19 sec\n",
      " ARIMA(1,0,3)(0,1,1)[12] intercept   : AIC=inf, Time=0.49 sec\n",
      " ARIMA(1,0,3)(1,1,0)[12] intercept   : AIC=inf, Time=0.41 sec\n",
      " ARIMA(1,0,4)(0,1,0)[12] intercept   : AIC=inf, Time=0.23 sec\n",
      " ARIMA(2,0,0)(0,1,0)[12] intercept   : AIC=296.570, Time=0.04 sec\n",
      " ARIMA(2,0,0)(0,1,1)[12] intercept   : AIC=298.424, Time=0.14 sec\n",
      " ARIMA(2,0,0)(0,1,2)[12] intercept   : AIC=295.158, Time=0.95 sec\n",
      " ARIMA(2,0,0)(1,1,0)[12] intercept   : AIC=298.496, Time=0.25 sec\n",
      " ARIMA(2,0,0)(1,1,1)[12] intercept   : AIC=inf, Time=0.43 sec\n",
      " ARIMA(2,0,0)(1,1,2)[12] intercept   : AIC=296.590, Time=1.12 sec\n",
      " ARIMA(2,0,0)(2,1,0)[12] intercept   : AIC=295.143, Time=0.65 sec\n",
      " ARIMA(2,0,0)(2,1,1)[12] intercept   : AIC=296.020, Time=0.84 sec\n",
      " ARIMA(2,0,1)(0,1,0)[12] intercept   : AIC=296.000, Time=0.14 sec\n",
      " ARIMA(2,0,1)(0,1,1)[12] intercept   : AIC=297.285, Time=0.34 sec\n",
      " ARIMA(2,0,1)(0,1,2)[12] intercept   : AIC=297.158, Time=0.55 sec\n",
      " ARIMA(2,0,1)(1,1,0)[12] intercept   : AIC=297.537, Time=0.36 sec\n",
      " ARIMA(2,0,1)(1,1,1)[12] intercept   : AIC=inf, Time=0.55 sec\n",
      " ARIMA(2,0,1)(2,1,0)[12] intercept   : AIC=297.116, Time=0.99 sec\n",
      " ARIMA(2,0,2)(0,1,0)[12] intercept   : AIC=298.208, Time=0.18 sec\n",
      " ARIMA(2,0,2)(0,1,1)[12] intercept   : AIC=299.353, Time=0.46 sec\n",
      " ARIMA(2,0,2)(1,1,0)[12] intercept   : AIC=299.567, Time=0.46 sec\n",
      " ARIMA(2,0,3)(0,1,0)[12] intercept   : AIC=299.964, Time=0.22 sec\n",
      " ARIMA(3,0,0)(0,1,0)[12] intercept   : AIC=298.290, Time=0.05 sec\n",
      " ARIMA(3,0,0)(0,1,1)[12] intercept   : AIC=299.953, Time=0.13 sec\n",
      " ARIMA(3,0,0)(0,1,2)[12] intercept   : AIC=297.158, Time=0.47 sec\n",
      " ARIMA(3,0,0)(1,1,0)[12] intercept   : AIC=300.116, Time=0.17 sec\n",
      " ARIMA(3,0,0)(1,1,1)[12] intercept   : AIC=inf, Time=0.44 sec\n",
      " ARIMA(3,0,0)(2,1,0)[12] intercept   : AIC=297.100, Time=0.63 sec\n",
      " ARIMA(3,0,1)(0,1,0)[12] intercept   : AIC=299.956, Time=0.09 sec\n",
      " ARIMA(3,0,1)(0,1,1)[12] intercept   : AIC=301.647, Time=0.18 sec\n",
      " ARIMA(3,0,1)(1,1,0)[12] intercept   : AIC=301.791, Time=0.30 sec\n",
      " ARIMA(3,0,2)(0,1,0)[12] intercept   : AIC=287.389, Time=0.18 sec\n",
      " ARIMA(4,0,0)(0,1,0)[12] intercept   : AIC=299.807, Time=0.05 sec\n",
      " ARIMA(4,0,0)(0,1,1)[12] intercept   : AIC=301.633, Time=0.21 sec\n",
      " ARIMA(4,0,0)(1,1,0)[12] intercept   : AIC=301.724, Time=0.31 sec\n",
      " ARIMA(4,0,1)(0,1,0)[12] intercept   : AIC=301.480, Time=0.08 sec\n",
      " ARIMA(5,0,0)(0,1,0)[12] intercept   : AIC=298.787, Time=0.07 sec\n",
      "\n",
      "Best model:  ARIMA(3,0,2)(0,1,0)[12] intercept\n",
      "Total fit time: 56.887 seconds\n",
      "                                      SARIMAX Results                                      \n",
      "===========================================================================================\n",
      "Dep. Variable:                                   y   No. Observations:                   81\n",
      "Model:             SARIMAX(3, 0, 2)x(0, 1, [], 12)   Log Likelihood                -136.694\n",
      "Date:                             Mon, 30 Jan 2023   AIC                            287.389\n",
      "Time:                                     12:34:56   BIC                            303.027\n",
      "Sample:                                          0   HQIC                           293.593\n",
      "                                              - 81                                         \n",
      "Covariance Type:                               opg                                         \n",
      "==============================================================================\n",
      "                 coef    std err          z      P>|z|      [0.025      0.975]\n",
      "------------------------------------------------------------------------------\n",
      "intercept      4.7489      1.573      3.019      0.003       1.666       7.832\n",
      "ar.L1         -0.5495      0.168     -3.267      0.001      -0.879      -0.220\n",
      "ar.L2         -0.3291      0.168     -1.957      0.050      -0.659       0.000\n",
      "ar.L3          0.4884      0.126      3.879      0.000       0.242       0.735\n",
      "ma.L1          0.8872      0.110      8.089      0.000       0.672       1.102\n",
      "ma.L2          0.9136      0.074     12.304      0.000       0.768       1.059\n",
      "sigma2         2.9784      0.641      4.644      0.000       1.721       4.235\n",
      "===================================================================================\n",
      "Ljung-Box (L1) (Q):                   0.03   Jarque-Bera (JB):                 1.35\n",
      "Prob(Q):                              0.86   Prob(JB):                         0.51\n",
      "Heteroskedasticity (H):               1.81   Skew:                             0.22\n",
      "Prob(H) (two-sided):                  0.16   Kurtosis:                         2.48\n",
      "===================================================================================\n",
      "\n",
      "Warnings:\n",
      "[1] Covariance matrix calculated using the outer product of gradients (complex-step).\n"
     ]
    }
   ],
   "source": [
    "split_point = int(len(ts) * 0.85)\n",
    "# Determine the training/testing set\n",
    "data_train, data_test = ts[0:split_point], ts[split_point:len(ts)]\n",
    "# Use the data from the training set to fit the model\n",
    "built_arimamodel = pm.auto_arima(data_train,\n",
    "                                 start_p=0,   # p minimum\n",
    "                                 start_q=0,   # q minimum\n",
    "                                 test='adf',  # The ADF test confirms the differential order d\n",
    "                                 max_p=5,     # p maximun\n",
    "                                 max_q=5,     # q maximun\n",
    "                                 m=12,        # Seasonal cycle length, when m = 1, seasonality is not considered\n",
    "                                 d=None,      # D is calculated by function\n",
    "                                 seasonal=True, start_P=0, D=1, trace=True,\n",
    "                                 error_action='ignore', suppress_warnings=True,\n",
    "                                 stepwise=False  # A stepwise value of False does not perform a full combinatorial traversal\n",
    "                                 )\n",
    "print(built_arimamodel.summary())\n"
   ]
  },
  {
   "attachments": {},
   "cell_type": "markdown",
   "metadata": {},
   "source": [
    "#### (2) Model recognition()\n"
   ]
  },
  {
   "cell_type": "code",
   "execution_count": null,
   "metadata": {},
   "outputs": [
    {
     "data": {
      "image/png": "[encoded data removed]",
      "text/plain": [
       "<Figure size 432x288 with 4 Axes>"
      ]
     },
     "metadata": {
      "needs_background": "light"
     },
     "output_type": "display_data"
    },
    {
     "data": {
      "text/plain": [
       "<Figure size 2160x2160 with 0 Axes>"
      ]
     },
     "metadata": {},
     "output_type": "display_data"
    }
   ],
   "source": [
    "built_arimamodel.plot_diagnostics()\n",
    "plt.figure(figsize=(30,30))\n",
    "plt.show()"
   ]
  },
  {
   "attachments": {},
   "cell_type": "markdown",
   "metadata": {},
   "source": [
    "#### 3. Demand forecasting"
   ]
  },
  {
   "cell_type": "code",
   "execution_count": null,
   "metadata": {},
   "outputs": [
    {
     "name": "stdout",
     "output_type": "stream",
     "text": [
      "The forecast demand for the future period is： 36.79466942867154\n",
      "The forecast demand for the future period is： 46.080812779467344\n",
      "The forecast demand for the future period is： 46.4100096609651\n",
      "The forecast demand for the future period is： 41.56152429643505\n",
      "The forecast demand for the future period is： 38.51414945709664\n",
      "The forecast demand for the future period is： 38.072882311711\n",
      "The forecast demand for the future period is： 46.25958329832661\n",
      "The forecast demand for the future period is： 48.6179332941965\n",
      "The forecast demand for the future period is： 43.86028495500141\n",
      "The forecast demand for the future period is： 39.92294739204007\n",
      "The forecast demand for the future period is： 43.85879045554451\n",
      "The forecast demand for the future period is： 43.611386021443735\n",
      "The forecast demand for the future period is： 34.48459000016047\n",
      "The forecast demand for the future period is： 38.87772042040966\n",
      "The forecast demand for the future period is： 34.50312178526519\n"
     ]
    }
   ],
   "source": [
    "# Multi-step predictions are made and then compared with data from the test set\n",
    "pred_list = []\n",
    "for index, row in data_test.iterrows():\n",
    "    # output index,value\n",
    "    # print(index, row)\n",
    "    pred_list += [built_arimamodel.predict(n_periods=1)]\n",
    "    # update model，model.update()function，The model is constantly updated with newly observed values\n",
    "    built_arimamodel.update(row)\n",
    "    # Forecast a time in the future outside of the time series\n",
    "    predict_f1 = built_arimamodel.predict(n_periods=1)\n",
    "    print('The forecast demand for the future period is：', predict_f1[0])\n"
   ]
  },
  {
   "attachments": {},
   "cell_type": "markdown",
   "metadata": {},
   "source": [
    "#### 4. Evaluation of results"
   ]
  },
  {
   "cell_type": "code",
   "execution_count": null,
   "metadata": {},
   "outputs": [
    {
     "name": "stdout",
     "output_type": "stream",
     "text": [
      "The result of model evaluation \n",
      " {'mape': 0.1356482377574066, 'me': 1.7662435035861632, 'mae': 4.8835073380318175, 'mpe': 0.06157446850561196, 'rmse': array([6.45934946]), 'corr': nan, 'minmax': 0.11231476984079292}\n"
     ]
    },
    {
     "data": {
      "image/png": "[encoded data removed]",
      "text/plain": [
       "<Figure size 432x288 with 1 Axes>"
      ]
     },
     "metadata": {
      "needs_background": "light"
     },
     "output_type": "display_data"
    }
   ],
   "source": [
    "# Draw a graph to observe the actual comparison with the test\n",
    "test_predict = data_test.copy()\n",
    "for x in range(len(test_predict)):\n",
    "    test_predict.iloc[x] = pred_list[x]\n",
    "\n",
    "actual = data_test.values\n",
    "forecast = test_predict.values\n",
    "mape = np.mean(np.abs(forecast - actual)/np.abs(actual))\n",
    "me = np.mean(forecast - actual)\n",
    "mae = np.mean(np.abs(forecast - actual))\n",
    "mpe = np.mean((forecast - actual)/actual)\n",
    "# rmse = np.mean((forecast - actual)**2)**0.5    # RMSE\n",
    "rmse_1 = np.sqrt(sum((forecast - actual) ** 2) / actual.size)\n",
    "corr = np.corrcoef(forecast, actual)[0, 1]\n",
    "mins = np.amin(np.hstack([forecast[:, None], actual[:, None]]), axis=1)\n",
    "maxs = np.amax(np.hstack([forecast[:, None], actual[:, None]]), axis=1)\n",
    "minmax = 1 - np.mean(mins/maxs)\n",
    "eval_result = ({'mape': mape,\n",
    "         'me': me,\n",
    "         'mae': mae,\n",
    "         'mpe': mpe,\n",
    "         'rmse': rmse_1,\n",
    "         'corr': corr,\n",
    "         'minmax': minmax\n",
    "         })\n",
    "\n",
    "\n",
    "# Model evaluation\n",
    "print('The result of model evaluation \\n', eval_result)\n",
    "plt.plot(ts, 'b-', lw=1, label='True Data', marker='*')\n",
    "plt.plot(test_predict, 'r-', lw=2, label='Prediction', marker='o')\n",
    "plt.title('RMSE:{}'.format(eval_result['rmse']))\n",
    "plt.legend(loc='best')\n",
    "plt.grid()  # Generate the mesh\n"
   ]
  },
  {
   "cell_type": "code",
   "execution_count": null,
   "metadata": {},
   "outputs": [
    {
     "data": {
      "text/plain": [
       "{'maxiter': 50,\n",
       " 'method': 'lbfgs',\n",
       " 'order': (3, 0, 2),\n",
       " 'out_of_sample_size': 0,\n",
       " 'scoring': 'mse',\n",
       " 'scoring_args': {},\n",
       " 'seasonal_order': (0, 1, 0, 12),\n",
       " 'start_params': None,\n",
       " 'suppress_warnings': True,\n",
       " 'trend': None,\n",
       " 'with_intercept': True}"
      ]
     },
     "execution_count": 286,
     "metadata": {},
     "output_type": "execute_result"
    }
   ],
   "source": [
    "built_arimamodel.get_params()"
   ]
  },
  {
   "cell_type": "code",
   "execution_count": null,
   "metadata": {},
   "outputs": [],
   "source": [
    "model = ARIMA(ts,order=(0, 1, 1),seasonal_order=(0, 1, 0, 12))\n",
    "model_fit = model.fit()"
   ]
  },
  {
   "cell_type": "code",
   "execution_count": null,
   "metadata": {},
   "outputs": [
    {
     "name": "stdout",
     "output_type": "stream",
     "text": [
      "The result of model evaluation \n",
      " {'mape': 0.1356482377574066, 'me': 1.7662435035861632, 'mae': 4.8835073380318175, 'mpe': 0.06157446850561196, 'rmse': array([6.45934946]), 'corr': nan, 'minmax': 0.11231476984079292}\n"
     ]
    },
    {
     "data": {
      "image/png": "[encoded data removed]",
      "text/plain": [
       "<Figure size 432x288 with 1 Axes>"
      ]
     },
     "metadata": {
      "needs_background": "light"
     },
     "output_type": "display_data"
    }
   ],
   "source": [
    "# Model evaluation\n",
    "print('The result of model evaluation \\n', eval_result)\n",
    "plt.plot(ts, 'b-', lw=1, label='True Data', marker='*')\n",
    "plt.plot(model_fit.forecast(12), 'r-', lw=2, label='Prediction', marker='o')\n",
    "plt.title('RMSE:{}'.format(eval_result['rmse']))\n",
    "plt.legend(loc='best')\n",
    "plt.grid()  # Generate the mesh"
   ]
  },
  {
   "cell_type": "code",
   "execution_count": null,
   "metadata": {},
   "outputs": [
    {
     "data": {
      "text/plain": [
       "2019-01-01    32.572093\n",
       "2019-02-01    34.472093\n",
       "2019-03-01    44.772093\n",
       "2019-04-01    48.572093\n",
       "2019-05-01    50.672093\n",
       "2019-06-01    49.872093\n",
       "2019-07-01    42.172093\n",
       "2019-08-01    44.072093\n",
       "2019-09-01    45.372093\n",
       "2019-10-01    42.972093\n",
       "2019-11-01    40.072093\n",
       "2019-12-01    40.372093\n",
       "Freq: MS, Name: predicted_mean, dtype: float64"
      ]
     },
     "execution_count": 289,
     "metadata": {},
     "output_type": "execute_result"
    }
   ],
   "source": [
    "forecast = model_fit.forecast(12)\n",
    "forecast"
   ]
  },
  {
   "cell_type": "code",
   "execution_count": null,
   "metadata": {},
   "outputs": [
    {
     "data": {
      "text/plain": [
       "515.9651118491486"
      ]
     },
     "execution_count": 290,
     "metadata": {},
     "output_type": "execute_result"
    }
   ],
   "source": [
    "forecast.sum()"
   ]
  },
  {
   "cell_type": "code",
   "execution_count": null,
   "metadata": {},
   "outputs": [],
   "source": [
    "forecast.to_csv('Forecast2019.csv')"
   ]
  },
  {
   "cell_type": "code",
   "execution_count": 59,
   "metadata": {},
   "outputs": [
    {
     "data": {
      "text/plain": [
       "Revenue    4.841063e+08\n",
       "dtype: float64"
      ]
     },
     "execution_count": 59,
     "metadata": {},
     "output_type": "execute_result"
    }
   ],
   "source": [
    "ww_2018 = ww_df[ww_df['year']==2018].agg({'Revenue':'sum'})\n"
   ]
  },
  {
   "cell_type": "code",
   "execution_count": null,
   "metadata": {},
   "outputs": [
    {
     "data": {
      "text/plain": [
       "Index(['ProductID', 'Date', 'Zip', 'Units', 'Revenue', 'City', 'State',\n",
       "       'Region', 'District', 'Country', 'Product', 'Category',\n",
       "       'ManufacturerID', 'Price USD', 'Manufacturer', 'Logo', 'year', 'month'],\n",
       "      dtype='object')"
      ]
     },
     "execution_count": 293,
     "metadata": {},
     "output_type": "execute_result"
    }
   ],
   "source": [
    "ww_df.columns"
   ]
  },
  {
   "cell_type": "code",
   "execution_count": null,
   "metadata": {},
   "outputs": [],
   "source": [
    "ww_df['month_year'] = pd.to_datetime(ww_df['month'].map(str) + '-' + ww_df['year'].map(str))\n",
    "ww_df_csv = ww_df.groupby(['month_year','ProductID','Zip','ManufacturerID'],as_index=False).agg({'Units':'sum',\n",
    "            'Revenue':'sum', 'City':'first', 'State':'first',\n",
    "            'Region':'first', 'District':'first', 'Country':'first', 'Product':'first', 'Category':'first',\n",
    "            'Price USD':'mean', 'Manufacturer':'first'})\n"
   ]
  },
  {
   "cell_type": "code",
   "execution_count": null,
   "metadata": {},
   "outputs": [
    {
     "name": "stdout",
     "output_type": "stream",
     "text": [
      "<class 'pandas.core.frame.DataFrame'>\n",
      "Int64Index: 513717 entries, 20 to 6584295\n",
      "Data columns (total 14 columns):\n",
      " #   Column          Non-Null Count   Dtype         \n",
      "---  ------          --------------   -----         \n",
      " 0   month_year      513717 non-null  datetime64[ns]\n",
      " 1   ProductID       513717 non-null  int64         \n",
      " 2   Zip             513717 non-null  object        \n",
      " 3   ManufacturerID  513717 non-null  int64         \n",
      " 4   Units           513717 non-null  int64         \n",
      " 5   Revenue         513717 non-null  float64       \n",
      " 6   City            513717 non-null  object        \n",
      " 7   State           513717 non-null  object        \n",
      " 8   District        513717 non-null  object        \n",
      " 9   Country         513717 non-null  object        \n",
      " 10  Product         513717 non-null  object        \n",
      " 11  Category        18990 non-null   object        \n",
      " 12  Price USD       513717 non-null  float64       \n",
      " 13  Manufacturer    513717 non-null  object        \n",
      "dtypes: datetime64[ns](1), float64(2), int64(3), object(8)\n",
      "memory usage: 58.8+ MB\n"
     ]
    }
   ],
   "source": [
    "ww_df_csv_Japan = ww_df_csv[ww_df_csv['Country']=='Japan']            \n",
    "ww_df_csv_Japan = ww_df_csv_Japan.drop('Region',axis=1)\n",
    "ww_df_csv_Japan.info()"
   ]
  },
  {
   "cell_type": "code",
   "execution_count": null,
   "metadata": {},
   "outputs": [],
   "source": [
    "ww_df_csv_Japan.to_csv('Japan_df.csv')"
   ]
  },
  {
   "cell_type": "code",
   "execution_count": null,
   "metadata": {},
   "outputs": [
    {
     "data": {
      "text/html": [
       "<div>\n",
       "<style scoped>\n",
       "    .dataframe tbody tr th:only-of-type {\n",
       "        vertical-align: middle;\n",
       "    }\n",
       "\n",
       "    .dataframe tbody tr th {\n",
       "        vertical-align: top;\n",
       "    }\n",
       "\n",
       "    .dataframe thead th {\n",
       "        text-align: right;\n",
       "    }\n",
       "</style>\n",
       "<table border=\"1\" class=\"dataframe\">\n",
       "  <thead>\n",
       "    <tr style=\"text-align: right;\">\n",
       "      <th></th>\n",
       "      <th>ProductID</th>\n",
       "      <th>Date</th>\n",
       "      <th>Zip</th>\n",
       "      <th>Units</th>\n",
       "      <th>Revenue</th>\n",
       "      <th>City</th>\n",
       "      <th>State</th>\n",
       "      <th>Region</th>\n",
       "      <th>District</th>\n",
       "      <th>Country</th>\n",
       "      <th>Product</th>\n",
       "      <th>Category</th>\n",
       "      <th>ManufacturerID</th>\n",
       "      <th>Price USD</th>\n",
       "      <th>Manufacturer</th>\n",
       "      <th>Logo</th>\n",
       "      <th>year</th>\n",
       "      <th>month</th>\n",
       "      <th>month_year</th>\n",
       "    </tr>\n",
       "  </thead>\n",
       "  <tbody>\n",
       "    <tr>\n",
       "      <th>0</th>\n",
       "      <td>1076</td>\n",
       "      <td>2012-01-20</td>\n",
       "      <td>72638</td>\n",
       "      <td>1</td>\n",
       "      <td>254.5725</td>\n",
       "      <td>Green Forest, AR, USA</td>\n",
       "      <td>AR</td>\n",
       "      <td>Central</td>\n",
       "      <td>District #21</td>\n",
       "      <td>USA</td>\n",
       "      <td>Pirum RP-22|Productivity</td>\n",
       "      <td>NaN</td>\n",
       "      <td>10</td>\n",
       "      <td>259.825</td>\n",
       "      <td>Pirum</td>\n",
       "      <td>https://raw.githubusercontent.com/CharlesSterl...</td>\n",
       "      <td>2012</td>\n",
       "      <td>1</td>\n",
       "      <td>2012-01-01</td>\n",
       "    </tr>\n",
       "    <tr>\n",
       "      <th>1</th>\n",
       "      <td>1076</td>\n",
       "      <td>2012-01-21</td>\n",
       "      <td>47577</td>\n",
       "      <td>1</td>\n",
       "      <td>254.5725</td>\n",
       "      <td>Saint Meinrad, IN, USA</td>\n",
       "      <td>IN</td>\n",
       "      <td>Central</td>\n",
       "      <td>District #25</td>\n",
       "      <td>USA</td>\n",
       "      <td>Pirum RP-22|Productivity</td>\n",
       "      <td>NaN</td>\n",
       "      <td>10</td>\n",
       "      <td>259.825</td>\n",
       "      <td>Pirum</td>\n",
       "      <td>https://raw.githubusercontent.com/CharlesSterl...</td>\n",
       "      <td>2012</td>\n",
       "      <td>1</td>\n",
       "      <td>2012-01-01</td>\n",
       "    </tr>\n",
       "    <tr>\n",
       "      <th>2</th>\n",
       "      <td>1076</td>\n",
       "      <td>2012-01-28</td>\n",
       "      <td>34653</td>\n",
       "      <td>1</td>\n",
       "      <td>254.5725</td>\n",
       "      <td>New Port Richey, FL, USA</td>\n",
       "      <td>FL</td>\n",
       "      <td>East</td>\n",
       "      <td>District #10</td>\n",
       "      <td>USA</td>\n",
       "      <td>Pirum RP-22|Productivity</td>\n",
       "      <td>NaN</td>\n",
       "      <td>10</td>\n",
       "      <td>259.825</td>\n",
       "      <td>Pirum</td>\n",
       "      <td>https://raw.githubusercontent.com/CharlesSterl...</td>\n",
       "      <td>2012</td>\n",
       "      <td>1</td>\n",
       "      <td>2012-01-01</td>\n",
       "    </tr>\n",
       "    <tr>\n",
       "      <th>3</th>\n",
       "      <td>1076</td>\n",
       "      <td>2012-01-31</td>\n",
       "      <td>84014</td>\n",
       "      <td>1</td>\n",
       "      <td>254.5725</td>\n",
       "      <td>Centerville, UT, USA</td>\n",
       "      <td>UT</td>\n",
       "      <td>West</td>\n",
       "      <td>District #33</td>\n",
       "      <td>USA</td>\n",
       "      <td>Pirum RP-22|Productivity</td>\n",
       "      <td>NaN</td>\n",
       "      <td>10</td>\n",
       "      <td>259.825</td>\n",
       "      <td>Pirum</td>\n",
       "      <td>https://raw.githubusercontent.com/CharlesSterl...</td>\n",
       "      <td>2012</td>\n",
       "      <td>1</td>\n",
       "      <td>2012-01-01</td>\n",
       "    </tr>\n",
       "    <tr>\n",
       "      <th>4</th>\n",
       "      <td>1076</td>\n",
       "      <td>2012-02-01</td>\n",
       "      <td>75070</td>\n",
       "      <td>1</td>\n",
       "      <td>254.5725</td>\n",
       "      <td>Mckinney, TX, USA</td>\n",
       "      <td>TX</td>\n",
       "      <td>Central</td>\n",
       "      <td>District #22</td>\n",
       "      <td>USA</td>\n",
       "      <td>Pirum RP-22|Productivity</td>\n",
       "      <td>NaN</td>\n",
       "      <td>10</td>\n",
       "      <td>259.825</td>\n",
       "      <td>Pirum</td>\n",
       "      <td>https://raw.githubusercontent.com/CharlesSterl...</td>\n",
       "      <td>2012</td>\n",
       "      <td>2</td>\n",
       "      <td>2012-02-01</td>\n",
       "    </tr>\n",
       "  </tbody>\n",
       "</table>\n",
       "</div>"
      ],
      "text/plain": [
       "   ProductID        Date    Zip  Units   Revenue                      City  \\\n",
       "0       1076  2012-01-20  72638      1  254.5725     Green Forest, AR, USA   \n",
       "1       1076  2012-01-21  47577      1  254.5725    Saint Meinrad, IN, USA   \n",
       "2       1076  2012-01-28  34653      1  254.5725  New Port Richey, FL, USA   \n",
       "3       1076  2012-01-31  84014      1  254.5725      Centerville, UT, USA   \n",
       "4       1076  2012-02-01  75070      1  254.5725         Mckinney, TX, USA   \n",
       "\n",
       "  State   Region      District Country                   Product Category  \\\n",
       "0    AR  Central  District #21     USA  Pirum RP-22|Productivity      NaN   \n",
       "1    IN  Central  District #25     USA  Pirum RP-22|Productivity      NaN   \n",
       "2    FL     East  District #10     USA  Pirum RP-22|Productivity      NaN   \n",
       "3    UT     West  District #33     USA  Pirum RP-22|Productivity      NaN   \n",
       "4    TX  Central  District #22     USA  Pirum RP-22|Productivity      NaN   \n",
       "\n",
       "   ManufacturerID  Price USD Manufacturer  \\\n",
       "0              10    259.825        Pirum   \n",
       "1              10    259.825        Pirum   \n",
       "2              10    259.825        Pirum   \n",
       "3              10    259.825        Pirum   \n",
       "4              10    259.825        Pirum   \n",
       "\n",
       "                                                Logo  year  month month_year  \n",
       "0  https://raw.githubusercontent.com/CharlesSterl...  2012      1 2012-01-01  \n",
       "1  https://raw.githubusercontent.com/CharlesSterl...  2012      1 2012-01-01  \n",
       "2  https://raw.githubusercontent.com/CharlesSterl...  2012      1 2012-01-01  \n",
       "3  https://raw.githubusercontent.com/CharlesSterl...  2012      1 2012-01-01  \n",
       "4  https://raw.githubusercontent.com/CharlesSterl...  2012      2 2012-02-01  "
      ]
     },
     "execution_count": 297,
     "metadata": {},
     "output_type": "execute_result"
    }
   ],
   "source": [
    "ww_df.head()"
   ]
  },
  {
   "cell_type": "code",
   "execution_count": null,
   "metadata": {},
   "outputs": [
    {
     "data": {
      "text/html": [
       "<div>\n",
       "<style scoped>\n",
       "    .dataframe tbody tr th:only-of-type {\n",
       "        vertical-align: middle;\n",
       "    }\n",
       "\n",
       "    .dataframe tbody tr th {\n",
       "        vertical-align: top;\n",
       "    }\n",
       "\n",
       "    .dataframe thead th {\n",
       "        text-align: right;\n",
       "    }\n",
       "</style>\n",
       "<table border=\"1\" class=\"dataframe\">\n",
       "  <thead>\n",
       "    <tr style=\"text-align: right;\">\n",
       "      <th></th>\n",
       "      <th>month</th>\n",
       "      <th>year</th>\n",
       "      <th>Country</th>\n",
       "      <th>Revenue</th>\n",
       "      <th>Date</th>\n",
       "    </tr>\n",
       "  </thead>\n",
       "  <tbody>\n",
       "    <tr>\n",
       "      <th>0</th>\n",
       "      <td>1</td>\n",
       "      <td>2011</td>\n",
       "      <td>Australia</td>\n",
       "      <td>3.556764e+06</td>\n",
       "      <td>2011-01-15</td>\n",
       "    </tr>\n",
       "    <tr>\n",
       "      <th>1</th>\n",
       "      <td>1</td>\n",
       "      <td>2011</td>\n",
       "      <td>Canada</td>\n",
       "      <td>6.497379e+04</td>\n",
       "      <td>2011-01-15</td>\n",
       "    </tr>\n",
       "    <tr>\n",
       "      <th>2</th>\n",
       "      <td>1</td>\n",
       "      <td>2011</td>\n",
       "      <td>Germany</td>\n",
       "      <td>3.135169e+05</td>\n",
       "      <td>2011-01-15</td>\n",
       "    </tr>\n",
       "    <tr>\n",
       "      <th>3</th>\n",
       "      <td>1</td>\n",
       "      <td>2011</td>\n",
       "      <td>Japan</td>\n",
       "      <td>1.206679e+06</td>\n",
       "      <td>2011-01-15</td>\n",
       "    </tr>\n",
       "    <tr>\n",
       "      <th>4</th>\n",
       "      <td>1</td>\n",
       "      <td>2011</td>\n",
       "      <td>Mexico</td>\n",
       "      <td>1.271468e+06</td>\n",
       "      <td>2011-01-15</td>\n",
       "    </tr>\n",
       "    <tr>\n",
       "      <th>...</th>\n",
       "      <td>...</td>\n",
       "      <td>...</td>\n",
       "      <td>...</td>\n",
       "      <td>...</td>\n",
       "      <td>...</td>\n",
       "    </tr>\n",
       "    <tr>\n",
       "      <th>667</th>\n",
       "      <td>12</td>\n",
       "      <td>2018</td>\n",
       "      <td>Germany</td>\n",
       "      <td>7.859386e+05</td>\n",
       "      <td>2018-12-06</td>\n",
       "    </tr>\n",
       "    <tr>\n",
       "      <th>668</th>\n",
       "      <td>12</td>\n",
       "      <td>2018</td>\n",
       "      <td>Japan</td>\n",
       "      <td>2.156253e+06</td>\n",
       "      <td>2018-12-12</td>\n",
       "    </tr>\n",
       "    <tr>\n",
       "      <th>669</th>\n",
       "      <td>12</td>\n",
       "      <td>2018</td>\n",
       "      <td>Mexico</td>\n",
       "      <td>4.182140e+06</td>\n",
       "      <td>2018-12-07</td>\n",
       "    </tr>\n",
       "    <tr>\n",
       "      <th>670</th>\n",
       "      <td>12</td>\n",
       "      <td>2018</td>\n",
       "      <td>Nigeria</td>\n",
       "      <td>4.212623e+05</td>\n",
       "      <td>2018-12-31</td>\n",
       "    </tr>\n",
       "    <tr>\n",
       "      <th>671</th>\n",
       "      <td>12</td>\n",
       "      <td>2018</td>\n",
       "      <td>USA</td>\n",
       "      <td>2.006379e+07</td>\n",
       "      <td>2018-12-01</td>\n",
       "    </tr>\n",
       "  </tbody>\n",
       "</table>\n",
       "<p>672 rows × 5 columns</p>\n",
       "</div>"
      ],
      "text/plain": [
       "     month  year    Country       Revenue        Date\n",
       "0        1  2011  Australia  3.556764e+06  2011-01-15\n",
       "1        1  2011     Canada  6.497379e+04  2011-01-15\n",
       "2        1  2011    Germany  3.135169e+05  2011-01-15\n",
       "3        1  2011      Japan  1.206679e+06  2011-01-15\n",
       "4        1  2011     Mexico  1.271468e+06  2011-01-15\n",
       "..     ...   ...        ...           ...         ...\n",
       "667     12  2018    Germany  7.859386e+05  2018-12-06\n",
       "668     12  2018      Japan  2.156253e+06  2018-12-12\n",
       "669     12  2018     Mexico  4.182140e+06  2018-12-07\n",
       "670     12  2018    Nigeria  4.212623e+05  2018-12-31\n",
       "671     12  2018        USA  2.006379e+07  2018-12-01\n",
       "\n",
       "[672 rows x 5 columns]"
      ]
     },
     "execution_count": 298,
     "metadata": {},
     "output_type": "execute_result"
    }
   ],
   "source": [
    "ww_rev = ww_df.groupby(['month','year','Country'],as_index=False).agg({\"Revenue\":\"sum\",\"Date\":\"first\"})\n",
    "ww_rev\n"
   ]
  },
  {
   "cell_type": "code",
   "execution_count": null,
   "metadata": {},
   "outputs": [],
   "source": [
    "ww_rev.to_csv('wwRevenue.csv')"
   ]
  },
  {
   "cell_type": "code",
   "execution_count": null,
   "metadata": {},
   "outputs": [],
   "source": []
  }
 ],
 "metadata": {
  "kernelspec": {
   "display_name": "base",
   "language": "python",
   "name": "python3"
  },
  "language_info": {
   "codemirror_mode": {
    "name": "ipython",
    "version": 3
   },
   "file_extension": ".py",
   "mimetype": "text/x-python",
   "name": "python",
   "nbconvert_exporter": "python",
   "pygments_lexer": "ipython3",
   "version": "3.9.12 (main, Apr  5 2022, 01:53:17) \n[Clang 12.0.0 ]"
  },
  "orig_nbformat": 4,
  "vscode": {
   "interpreter": {
    "hash": "779a97487d55d7f6bf1b4bbdefe253caaf54e9f1ed1e89a06eb32d5902652817"
   }
  }
 },
 "nbformat": 4,
 "nbformat_minor": 2
}
